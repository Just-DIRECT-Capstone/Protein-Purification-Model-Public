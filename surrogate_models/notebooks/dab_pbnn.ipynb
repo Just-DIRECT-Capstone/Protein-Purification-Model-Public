{
 "metadata": {
  "language_info": {
   "codemirror_mode": {
    "name": "ipython",
    "version": 3
   },
   "file_extension": ".py",
   "mimetype": "text/x-python",
   "name": "python",
   "nbconvert_exporter": "python",
   "pygments_lexer": "ipython3",
   "version": "3.9.2-final"
  },
  "orig_nbformat": 2,
  "kernelspec": {
   "name": "python392jvsc74a57bd0b01975ddddaf4db0ddd9e77ba558bc384051aec2d64c8688cf2fb07acba12100",
   "display_name": "Python 3.9.2 64-bit ('JUST': conda)"
  }
 },
 "nbformat": 4,
 "nbformat_minor": 2,
 "cells": [
  {
   "cell_type": "code",
   "execution_count": 1,
   "metadata": {},
   "outputs": [
    {
     "output_type": "stream",
     "name": "stdout",
     "text": [
      "INFO:tensorflow:Enabling eager execution\n",
      "INFO:tensorflow:Enabling v2 tensorshape\n",
      "INFO:tensorflow:Enabling resource variables\n",
      "INFO:tensorflow:Enabling tensor equality\n",
      "INFO:tensorflow:Enabling control flow v2\n"
     ]
    }
   ],
   "source": [
    "%load_ext autoreload\n",
    "%autoreload 2\n",
    "\n",
    "import utils\n",
    "from visualization.simple_data_vis import histograms\n",
    "import surrogate_models.dab_nn_defs as engine\n",
    "import kerastuner as kt\n",
    "from tensorflow import keras\n",
    "import numpy as np"
   ]
  },
  {
   "source": [
    "# load data from just-private/data\n",
    "filename = 'mol_res_scan_results_7.csv'\n",
    "data = utils.load_data(filename)"
   ],
   "cell_type": "code",
   "metadata": {},
   "execution_count": 2,
   "outputs": []
  },
  {
   "cell_type": "code",
   "execution_count": null,
   "metadata": {},
   "outputs": [],
   "source": [
    "# _,_ = histograms(data)"
   ]
  },
  {
   "cell_type": "code",
   "execution_count": 3,
   "metadata": {},
   "outputs": [],
   "source": [
    "# since currently data is just one big dataframe, select model inputs as X and purity, yield as Y\n",
    "X = data[data.columns[4:]]\n",
    "y = data[data.columns[2:4]]\n",
    "\n",
    "# specify train-test split, and batch size (useful for when we do larger datasets)\n",
    "dataset_size = X.shape[0]\n",
    "train_size = int(dataset_size * 0.80)\n",
    "\n",
    "# split data into train and test (this is a generator). consider switching to what Kaylyn did\n",
    "train_dataset, test_dataset = utils.get_train_and_test_splits(X,y, train_size, batch_size = dataset_size)"
   ]
  },
  {
   "cell_type": "code",
   "execution_count": null,
   "metadata": {
    "tags": [
     "outputPrepend"
    ]
   },
   "outputs": [],
   "source": [
    "# define Probabilistic Bayesian Neural Network\n",
    "prob_bnn_model = engine.create_probablistic_bnn_model(\n",
    "    FEATURE_NAMES = data.columns[4:],\n",
    "    TARGET_NAMES = data.columns[2:4], \n",
    "    train_size = train_size, \n",
    "    n_outputs = y.shape[1],\n",
    "    hidden_units = [16,8,4],\n",
    "    name = 'PBNN_'+filename\n",
    "    )\n",
    "\n",
    "# specify train/test routine \n",
    "engine.run_experiment(\n",
    "    model = prob_bnn_model, \n",
    "    loss = negative_loglikelihood, \n",
    "    learning_rate = 0.05,\n",
    "    num_epochs = 400,\n",
    "    train_dataset = train_dataset, \n",
    "    test_dataset = test_dataset\n",
    "    )"
   ]
  },
  {
   "cell_type": "code",
   "execution_count": 15,
   "metadata": {},
   "outputs": [],
   "source": [
    "n_samples = 50\n",
    "sample_inputs, sample_outputs = list(test_dataset.unbatch().shuffle(dataset_size).batch(n_samples))[0]"
   ]
  },
  {
   "cell_type": "code",
   "execution_count": 4,
   "metadata": {},
   "outputs": [],
   "source": [
    "def model_builder(hp):\n",
    "    hp_layers = hp.Int('layers', min_value=2, max_value=10)\n",
    "    hp_units = hp.Int('units', min_value=4, max_value = 32, step=2)\n",
    "    for L in range(hp_layers):\n",
    "        hidden_units = [np.ceil(hp_units**(l/L)) for l in range(L)]\n",
    "\n",
    "    # define Probabilistic Bayesian Neural Network \n",
    "    model = engine.create_probablistic_bnn_model(\n",
    "        FEATURE_NAMES = data.columns[4:],\n",
    "        TARGET_NAMES = data.columns[2:4], \n",
    "        train_size = train_size, \n",
    "        n_outputs = y.shape[1],\n",
    "        hidden_units = hidden_units,\n",
    "        name = 'PBNN_'+filename\n",
    "        )\n",
    "\n",
    "    model.compile(\n",
    "        optimizer=keras.optimizers.RMSprop(learning_rate=hp.Choice('learning_rate', [1e-2, 1e-3, 1e-4])),\n",
    "        loss=engine.negative_loglikelihood,\n",
    "        metrics=[keras.metrics.MeanSquaredError()]\n",
    "    )\n",
    "\n",
    "    return model"
   ]
  },
  {
   "cell_type": "code",
   "execution_count": 5,
   "metadata": {},
   "outputs": [],
   "source": [
    "tuner = kt.Hyperband(model_builder,\n",
    "                     objective='val_loss',\n",
    "                     max_epochs=400,\n",
    "                     factor=2,\n",
    "                     directory=\"surrogate_models/.hypertuning/\",\n",
    "                     project_name='intro_to_kt')"
   ]
  },
  {
   "cell_type": "code",
   "execution_count": 6,
   "metadata": {},
   "outputs": [
    {
     "output_type": "stream",
     "name": "stdout",
     "text": [
      "Search space summary\nDefault search space size: 3\nlayers (Int)\n{'default': None, 'conditions': [], 'min_value': 2, 'max_value': 10, 'step': 1, 'sampling': None}\nunits (Int)\n{'default': None, 'conditions': [], 'min_value': 4, 'max_value': 32, 'step': 2, 'sampling': None}\nlearning_rate (Choice)\n{'default': 0.01, 'conditions': [], 'values': [0.01, 0.001, 0.0001], 'ordered': True}\n"
     ]
    }
   ],
   "source": [
    "tuner.search_space_summary()"
   ]
  },
  {
   "cell_type": "code",
   "execution_count": 7,
   "metadata": {
    "tags": [
     "outputPrepend"
    ]
   },
   "outputs": [
    {
     "output_type": "stream",
     "name": "stdout",
     "text": [
      "Trial 642 Complete [00h 00m 15s]\nval_loss: 2.5589988231658936\n\nBest val_loss So Far: 0.1679764837026596\nTotal elapsed time: 02h 11m 52s\nINFO:tensorflow:Oracle triggered exit\n"
     ]
    }
   ],
   "source": [
    "tuner.search(train_dataset, validation_data = test_dataset, epochs = 100)"
   ]
  },
  {
   "cell_type": "code",
   "execution_count": 8,
   "metadata": {},
   "outputs": [],
   "source": [
    "best = tuner.get_best_models()"
   ]
  },
  {
   "cell_type": "code",
   "execution_count": 11,
   "metadata": {},
   "outputs": [],
   "source": [
    "best_distributions = best[0](sample_inputs)\n",
    "best_means = [i.mean().numpy().tolist() for i in best_distributions]\n"
   ]
  },
  {
   "cell_type": "code",
   "execution_count": 12,
   "metadata": {},
   "outputs": [
    {
     "output_type": "execute_result",
     "data": {
      "text/plain": [
       "[[[0.6568162441253662],\n",
       "  [0.6578735113143921],\n",
       "  [0.6575702428817749],\n",
       "  [0.6568752527236938],\n",
       "  [0.6563711166381836],\n",
       "  [0.6575285196304321],\n",
       "  [0.657620906829834],\n",
       "  [0.6555591821670532],\n",
       "  [0.6564829349517822],\n",
       "  [0.6557111740112305]],\n",
       " [[0.7004284858703613],\n",
       "  [0.7068790197372437],\n",
       "  [0.7051188945770264],\n",
       "  [0.7008123397827148],\n",
       "  [0.6974419355392456],\n",
       "  [0.7048705816268921],\n",
       "  [0.7054181098937988],\n",
       "  [0.6915677785873413],\n",
       "  [0.6982073783874512],\n",
       "  [0.6927090883255005]]]"
      ]
     },
     "metadata": {},
     "execution_count": 12
    }
   ],
   "source": [
    "best_means"
   ]
  },
  {
   "cell_type": "code",
   "execution_count": null,
   "metadata": {
    "tags": []
   },
   "outputs": [],
   "source": [
    "test_pbnn_model = engine.create_probablistic_bnn_model(\n",
    "    FEATURE_NAMES = data.columns[4:],\n",
    "    TARGET_NAMES = data.columns[2:4], \n",
    "    train_size = train_size, \n",
    "    n_outputs = y.shape[1],\n",
    "    hidden_units = [96,96],\n",
    "    name = 'test_PBNN_'+filename\n",
    "    )\n",
    "\n",
    "# specify train/test routine \n",
    "engine.run_experiment(\n",
    "    model = test_pbnn_model, \n",
    "    loss = engine.negative_loglikelihood, \n",
    "    learning_rate = 0.001,\n",
    "    num_epochs = 400,\n",
    "    train_dataset = train_dataset, \n",
    "    test_dataset = test_dataset\n",
    "    )"
   ]
  },
  {
   "cell_type": "code",
   "execution_count": 23,
   "metadata": {},
   "outputs": [
    {
     "output_type": "execute_result",
     "data": {
      "text/plain": [
       "Text(0, 0.5, 'predicted')"
      ]
     },
     "metadata": {},
     "execution_count": 23
    },
    {
     "output_type": "display_data",
     "data": {
      "text/plain": "<Figure size 432x288 with 1 Axes>",
      "image/svg+xml": "<?xml version=\"1.0\" encoding=\"utf-8\" standalone=\"no\"?>\r\n<!DOCTYPE svg PUBLIC \"-//W3C//DTD SVG 1.1//EN\"\r\n  \"http://www.w3.org/Graphics/SVG/1.1/DTD/svg11.dtd\">\r\n<svg height=\"265.995469pt\" version=\"1.1\" viewBox=\"0 0 276.372813 265.995469\" width=\"276.372813pt\" xmlns=\"http://www.w3.org/2000/svg\" xmlns:xlink=\"http://www.w3.org/1999/xlink\">\r\n <metadata>\r\n  <rdf:RDF xmlns:cc=\"http://creativecommons.org/ns#\" xmlns:dc=\"http://purl.org/dc/elements/1.1/\" xmlns:rdf=\"http://www.w3.org/1999/02/22-rdf-syntax-ns#\">\r\n   <cc:Work>\r\n    <dc:type rdf:resource=\"http://purl.org/dc/dcmitype/StillImage\"/>\r\n    <dc:date>2021-04-28T15:03:25.426425</dc:date>\r\n    <dc:format>image/svg+xml</dc:format>\r\n    <dc:creator>\r\n     <cc:Agent>\r\n      <dc:title>Matplotlib v3.4.1, https://matplotlib.org/</dc:title>\r\n     </cc:Agent>\r\n    </dc:creator>\r\n   </cc:Work>\r\n  </rdf:RDF>\r\n </metadata>\r\n <defs>\r\n  <style type=\"text/css\">*{stroke-linecap:butt;stroke-linejoin:round;}</style>\r\n </defs>\r\n <g id=\"figure_1\">\r\n  <g id=\"patch_1\">\r\n   <path d=\"M 0 265.995469 \r\nL 276.372813 265.995469 \r\nL 276.372813 0 \r\nL 0 0 \r\nz\r\n\" style=\"fill:none;\"/>\r\n  </g>\r\n  <g id=\"axes_1\">\r\n   <g id=\"patch_2\">\r\n    <path d=\"M 43.78125 228.439219 \r\nL 261.22125 228.439219 \r\nL 261.22125 10.999219 \r\nL 43.78125 10.999219 \r\nz\r\n\" style=\"fill:#ffffff;\"/>\r\n   </g>\r\n   <g id=\"matplotlib.axis_1\">\r\n    <g id=\"xtick_1\">\r\n     <g id=\"line2d_1\">\r\n      <defs>\r\n       <path d=\"M 0 0 \r\nL 0 3.5 \r\n\" id=\"md9c5d69ae7\" style=\"stroke:#000000;stroke-width:0.8;\"/>\r\n      </defs>\r\n      <g>\r\n       <use style=\"stroke:#000000;stroke-width:0.8;\" x=\"43.78125\" xlink:href=\"#md9c5d69ae7\" y=\"228.439219\"/>\r\n      </g>\r\n     </g>\r\n     <g id=\"text_1\">\r\n      <!-- 0.0 -->\r\n      <g transform=\"translate(35.829688 243.037656)scale(0.1 -0.1)\">\r\n       <defs>\r\n        <path d=\"M 2034 4250 \r\nQ 1547 4250 1301 3770 \r\nQ 1056 3291 1056 2328 \r\nQ 1056 1369 1301 889 \r\nQ 1547 409 2034 409 \r\nQ 2525 409 2770 889 \r\nQ 3016 1369 3016 2328 \r\nQ 3016 3291 2770 3770 \r\nQ 2525 4250 2034 4250 \r\nz\r\nM 2034 4750 \r\nQ 2819 4750 3233 4129 \r\nQ 3647 3509 3647 2328 \r\nQ 3647 1150 3233 529 \r\nQ 2819 -91 2034 -91 \r\nQ 1250 -91 836 529 \r\nQ 422 1150 422 2328 \r\nQ 422 3509 836 4129 \r\nQ 1250 4750 2034 4750 \r\nz\r\n\" id=\"DejaVuSans-30\" transform=\"scale(0.015625)\"/>\r\n        <path d=\"M 684 794 \r\nL 1344 794 \r\nL 1344 0 \r\nL 684 0 \r\nL 684 794 \r\nz\r\n\" id=\"DejaVuSans-2e\" transform=\"scale(0.015625)\"/>\r\n       </defs>\r\n       <use xlink:href=\"#DejaVuSans-30\"/>\r\n       <use x=\"63.623047\" xlink:href=\"#DejaVuSans-2e\"/>\r\n       <use x=\"95.410156\" xlink:href=\"#DejaVuSans-30\"/>\r\n      </g>\r\n     </g>\r\n    </g>\r\n    <g id=\"xtick_2\">\r\n     <g id=\"line2d_2\">\r\n      <g>\r\n       <use style=\"stroke:#000000;stroke-width:0.8;\" x=\"87.26925\" xlink:href=\"#md9c5d69ae7\" y=\"228.439219\"/>\r\n      </g>\r\n     </g>\r\n     <g id=\"text_2\">\r\n      <!-- 0.2 -->\r\n      <g transform=\"translate(79.317688 243.037656)scale(0.1 -0.1)\">\r\n       <defs>\r\n        <path d=\"M 1228 531 \r\nL 3431 531 \r\nL 3431 0 \r\nL 469 0 \r\nL 469 531 \r\nQ 828 903 1448 1529 \r\nQ 2069 2156 2228 2338 \r\nQ 2531 2678 2651 2914 \r\nQ 2772 3150 2772 3378 \r\nQ 2772 3750 2511 3984 \r\nQ 2250 4219 1831 4219 \r\nQ 1534 4219 1204 4116 \r\nQ 875 4013 500 3803 \r\nL 500 4441 \r\nQ 881 4594 1212 4672 \r\nQ 1544 4750 1819 4750 \r\nQ 2544 4750 2975 4387 \r\nQ 3406 4025 3406 3419 \r\nQ 3406 3131 3298 2873 \r\nQ 3191 2616 2906 2266 \r\nQ 2828 2175 2409 1742 \r\nQ 1991 1309 1228 531 \r\nz\r\n\" id=\"DejaVuSans-32\" transform=\"scale(0.015625)\"/>\r\n       </defs>\r\n       <use xlink:href=\"#DejaVuSans-30\"/>\r\n       <use x=\"63.623047\" xlink:href=\"#DejaVuSans-2e\"/>\r\n       <use x=\"95.410156\" xlink:href=\"#DejaVuSans-32\"/>\r\n      </g>\r\n     </g>\r\n    </g>\r\n    <g id=\"xtick_3\">\r\n     <g id=\"line2d_3\">\r\n      <g>\r\n       <use style=\"stroke:#000000;stroke-width:0.8;\" x=\"130.75725\" xlink:href=\"#md9c5d69ae7\" y=\"228.439219\"/>\r\n      </g>\r\n     </g>\r\n     <g id=\"text_3\">\r\n      <!-- 0.4 -->\r\n      <g transform=\"translate(122.805688 243.037656)scale(0.1 -0.1)\">\r\n       <defs>\r\n        <path d=\"M 2419 4116 \r\nL 825 1625 \r\nL 2419 1625 \r\nL 2419 4116 \r\nz\r\nM 2253 4666 \r\nL 3047 4666 \r\nL 3047 1625 \r\nL 3713 1625 \r\nL 3713 1100 \r\nL 3047 1100 \r\nL 3047 0 \r\nL 2419 0 \r\nL 2419 1100 \r\nL 313 1100 \r\nL 313 1709 \r\nL 2253 4666 \r\nz\r\n\" id=\"DejaVuSans-34\" transform=\"scale(0.015625)\"/>\r\n       </defs>\r\n       <use xlink:href=\"#DejaVuSans-30\"/>\r\n       <use x=\"63.623047\" xlink:href=\"#DejaVuSans-2e\"/>\r\n       <use x=\"95.410156\" xlink:href=\"#DejaVuSans-34\"/>\r\n      </g>\r\n     </g>\r\n    </g>\r\n    <g id=\"xtick_4\">\r\n     <g id=\"line2d_4\">\r\n      <g>\r\n       <use style=\"stroke:#000000;stroke-width:0.8;\" x=\"174.24525\" xlink:href=\"#md9c5d69ae7\" y=\"228.439219\"/>\r\n      </g>\r\n     </g>\r\n     <g id=\"text_4\">\r\n      <!-- 0.6 -->\r\n      <g transform=\"translate(166.293688 243.037656)scale(0.1 -0.1)\">\r\n       <defs>\r\n        <path d=\"M 2113 2584 \r\nQ 1688 2584 1439 2293 \r\nQ 1191 2003 1191 1497 \r\nQ 1191 994 1439 701 \r\nQ 1688 409 2113 409 \r\nQ 2538 409 2786 701 \r\nQ 3034 994 3034 1497 \r\nQ 3034 2003 2786 2293 \r\nQ 2538 2584 2113 2584 \r\nz\r\nM 3366 4563 \r\nL 3366 3988 \r\nQ 3128 4100 2886 4159 \r\nQ 2644 4219 2406 4219 \r\nQ 1781 4219 1451 3797 \r\nQ 1122 3375 1075 2522 \r\nQ 1259 2794 1537 2939 \r\nQ 1816 3084 2150 3084 \r\nQ 2853 3084 3261 2657 \r\nQ 3669 2231 3669 1497 \r\nQ 3669 778 3244 343 \r\nQ 2819 -91 2113 -91 \r\nQ 1303 -91 875 529 \r\nQ 447 1150 447 2328 \r\nQ 447 3434 972 4092 \r\nQ 1497 4750 2381 4750 \r\nQ 2619 4750 2861 4703 \r\nQ 3103 4656 3366 4563 \r\nz\r\n\" id=\"DejaVuSans-36\" transform=\"scale(0.015625)\"/>\r\n       </defs>\r\n       <use xlink:href=\"#DejaVuSans-30\"/>\r\n       <use x=\"63.623047\" xlink:href=\"#DejaVuSans-2e\"/>\r\n       <use x=\"95.410156\" xlink:href=\"#DejaVuSans-36\"/>\r\n      </g>\r\n     </g>\r\n    </g>\r\n    <g id=\"xtick_5\">\r\n     <g id=\"line2d_5\">\r\n      <g>\r\n       <use style=\"stroke:#000000;stroke-width:0.8;\" x=\"217.73325\" xlink:href=\"#md9c5d69ae7\" y=\"228.439219\"/>\r\n      </g>\r\n     </g>\r\n     <g id=\"text_5\">\r\n      <!-- 0.8 -->\r\n      <g transform=\"translate(209.781688 243.037656)scale(0.1 -0.1)\">\r\n       <defs>\r\n        <path d=\"M 2034 2216 \r\nQ 1584 2216 1326 1975 \r\nQ 1069 1734 1069 1313 \r\nQ 1069 891 1326 650 \r\nQ 1584 409 2034 409 \r\nQ 2484 409 2743 651 \r\nQ 3003 894 3003 1313 \r\nQ 3003 1734 2745 1975 \r\nQ 2488 2216 2034 2216 \r\nz\r\nM 1403 2484 \r\nQ 997 2584 770 2862 \r\nQ 544 3141 544 3541 \r\nQ 544 4100 942 4425 \r\nQ 1341 4750 2034 4750 \r\nQ 2731 4750 3128 4425 \r\nQ 3525 4100 3525 3541 \r\nQ 3525 3141 3298 2862 \r\nQ 3072 2584 2669 2484 \r\nQ 3125 2378 3379 2068 \r\nQ 3634 1759 3634 1313 \r\nQ 3634 634 3220 271 \r\nQ 2806 -91 2034 -91 \r\nQ 1263 -91 848 271 \r\nQ 434 634 434 1313 \r\nQ 434 1759 690 2068 \r\nQ 947 2378 1403 2484 \r\nz\r\nM 1172 3481 \r\nQ 1172 3119 1398 2916 \r\nQ 1625 2713 2034 2713 \r\nQ 2441 2713 2670 2916 \r\nQ 2900 3119 2900 3481 \r\nQ 2900 3844 2670 4047 \r\nQ 2441 4250 2034 4250 \r\nQ 1625 4250 1398 4047 \r\nQ 1172 3844 1172 3481 \r\nz\r\n\" id=\"DejaVuSans-38\" transform=\"scale(0.015625)\"/>\r\n       </defs>\r\n       <use xlink:href=\"#DejaVuSans-30\"/>\r\n       <use x=\"63.623047\" xlink:href=\"#DejaVuSans-2e\"/>\r\n       <use x=\"95.410156\" xlink:href=\"#DejaVuSans-38\"/>\r\n      </g>\r\n     </g>\r\n    </g>\r\n    <g id=\"xtick_6\">\r\n     <g id=\"line2d_6\">\r\n      <g>\r\n       <use style=\"stroke:#000000;stroke-width:0.8;\" x=\"261.22125\" xlink:href=\"#md9c5d69ae7\" y=\"228.439219\"/>\r\n      </g>\r\n     </g>\r\n     <g id=\"text_6\">\r\n      <!-- 1.0 -->\r\n      <g transform=\"translate(253.269688 243.037656)scale(0.1 -0.1)\">\r\n       <defs>\r\n        <path d=\"M 794 531 \r\nL 1825 531 \r\nL 1825 4091 \r\nL 703 3866 \r\nL 703 4441 \r\nL 1819 4666 \r\nL 2450 4666 \r\nL 2450 531 \r\nL 3481 531 \r\nL 3481 0 \r\nL 794 0 \r\nL 794 531 \r\nz\r\n\" id=\"DejaVuSans-31\" transform=\"scale(0.015625)\"/>\r\n       </defs>\r\n       <use xlink:href=\"#DejaVuSans-31\"/>\r\n       <use x=\"63.623047\" xlink:href=\"#DejaVuSans-2e\"/>\r\n       <use x=\"95.410156\" xlink:href=\"#DejaVuSans-30\"/>\r\n      </g>\r\n     </g>\r\n    </g>\r\n    <g id=\"text_7\">\r\n     <!-- true -->\r\n     <g transform=\"translate(142.240313 256.715781)scale(0.1 -0.1)\">\r\n      <defs>\r\n       <path d=\"M 1172 4494 \r\nL 1172 3500 \r\nL 2356 3500 \r\nL 2356 3053 \r\nL 1172 3053 \r\nL 1172 1153 \r\nQ 1172 725 1289 603 \r\nQ 1406 481 1766 481 \r\nL 2356 481 \r\nL 2356 0 \r\nL 1766 0 \r\nQ 1100 0 847 248 \r\nQ 594 497 594 1153 \r\nL 594 3053 \r\nL 172 3053 \r\nL 172 3500 \r\nL 594 3500 \r\nL 594 4494 \r\nL 1172 4494 \r\nz\r\n\" id=\"DejaVuSans-74\" transform=\"scale(0.015625)\"/>\r\n       <path d=\"M 2631 2963 \r\nQ 2534 3019 2420 3045 \r\nQ 2306 3072 2169 3072 \r\nQ 1681 3072 1420 2755 \r\nQ 1159 2438 1159 1844 \r\nL 1159 0 \r\nL 581 0 \r\nL 581 3500 \r\nL 1159 3500 \r\nL 1159 2956 \r\nQ 1341 3275 1631 3429 \r\nQ 1922 3584 2338 3584 \r\nQ 2397 3584 2469 3576 \r\nQ 2541 3569 2628 3553 \r\nL 2631 2963 \r\nz\r\n\" id=\"DejaVuSans-72\" transform=\"scale(0.015625)\"/>\r\n       <path d=\"M 544 1381 \r\nL 544 3500 \r\nL 1119 3500 \r\nL 1119 1403 \r\nQ 1119 906 1312 657 \r\nQ 1506 409 1894 409 \r\nQ 2359 409 2629 706 \r\nQ 2900 1003 2900 1516 \r\nL 2900 3500 \r\nL 3475 3500 \r\nL 3475 0 \r\nL 2900 0 \r\nL 2900 538 \r\nQ 2691 219 2414 64 \r\nQ 2138 -91 1772 -91 \r\nQ 1169 -91 856 284 \r\nQ 544 659 544 1381 \r\nz\r\nM 1991 3584 \r\nL 1991 3584 \r\nz\r\n\" id=\"DejaVuSans-75\" transform=\"scale(0.015625)\"/>\r\n       <path d=\"M 3597 1894 \r\nL 3597 1613 \r\nL 953 1613 \r\nQ 991 1019 1311 708 \r\nQ 1631 397 2203 397 \r\nQ 2534 397 2845 478 \r\nQ 3156 559 3463 722 \r\nL 3463 178 \r\nQ 3153 47 2828 -22 \r\nQ 2503 -91 2169 -91 \r\nQ 1331 -91 842 396 \r\nQ 353 884 353 1716 \r\nQ 353 2575 817 3079 \r\nQ 1281 3584 2069 3584 \r\nQ 2775 3584 3186 3129 \r\nQ 3597 2675 3597 1894 \r\nz\r\nM 3022 2063 \r\nQ 3016 2534 2758 2815 \r\nQ 2500 3097 2075 3097 \r\nQ 1594 3097 1305 2825 \r\nQ 1016 2553 972 2059 \r\nL 3022 2063 \r\nz\r\n\" id=\"DejaVuSans-65\" transform=\"scale(0.015625)\"/>\r\n      </defs>\r\n      <use xlink:href=\"#DejaVuSans-74\"/>\r\n      <use x=\"39.208984\" xlink:href=\"#DejaVuSans-72\"/>\r\n      <use x=\"80.322266\" xlink:href=\"#DejaVuSans-75\"/>\r\n      <use x=\"143.701172\" xlink:href=\"#DejaVuSans-65\"/>\r\n     </g>\r\n    </g>\r\n   </g>\r\n   <g id=\"matplotlib.axis_2\">\r\n    <g id=\"ytick_1\">\r\n     <g id=\"line2d_7\">\r\n      <defs>\r\n       <path d=\"M 0 0 \r\nL -3.5 0 \r\n\" id=\"mfaacadb280\" style=\"stroke:#000000;stroke-width:0.8;\"/>\r\n      </defs>\r\n      <g>\r\n       <use style=\"stroke:#000000;stroke-width:0.8;\" x=\"43.78125\" xlink:href=\"#mfaacadb280\" y=\"228.439219\"/>\r\n      </g>\r\n     </g>\r\n     <g id=\"text_8\">\r\n      <!-- 0.0 -->\r\n      <g transform=\"translate(20.878125 232.238437)scale(0.1 -0.1)\">\r\n       <use xlink:href=\"#DejaVuSans-30\"/>\r\n       <use x=\"63.623047\" xlink:href=\"#DejaVuSans-2e\"/>\r\n       <use x=\"95.410156\" xlink:href=\"#DejaVuSans-30\"/>\r\n      </g>\r\n     </g>\r\n    </g>\r\n    <g id=\"ytick_2\">\r\n     <g id=\"line2d_8\">\r\n      <g>\r\n       <use style=\"stroke:#000000;stroke-width:0.8;\" x=\"43.78125\" xlink:href=\"#mfaacadb280\" y=\"184.951219\"/>\r\n      </g>\r\n     </g>\r\n     <g id=\"text_9\">\r\n      <!-- 0.2 -->\r\n      <g transform=\"translate(20.878125 188.750437)scale(0.1 -0.1)\">\r\n       <use xlink:href=\"#DejaVuSans-30\"/>\r\n       <use x=\"63.623047\" xlink:href=\"#DejaVuSans-2e\"/>\r\n       <use x=\"95.410156\" xlink:href=\"#DejaVuSans-32\"/>\r\n      </g>\r\n     </g>\r\n    </g>\r\n    <g id=\"ytick_3\">\r\n     <g id=\"line2d_9\">\r\n      <g>\r\n       <use style=\"stroke:#000000;stroke-width:0.8;\" x=\"43.78125\" xlink:href=\"#mfaacadb280\" y=\"141.463219\"/>\r\n      </g>\r\n     </g>\r\n     <g id=\"text_10\">\r\n      <!-- 0.4 -->\r\n      <g transform=\"translate(20.878125 145.262437)scale(0.1 -0.1)\">\r\n       <use xlink:href=\"#DejaVuSans-30\"/>\r\n       <use x=\"63.623047\" xlink:href=\"#DejaVuSans-2e\"/>\r\n       <use x=\"95.410156\" xlink:href=\"#DejaVuSans-34\"/>\r\n      </g>\r\n     </g>\r\n    </g>\r\n    <g id=\"ytick_4\">\r\n     <g id=\"line2d_10\">\r\n      <g>\r\n       <use style=\"stroke:#000000;stroke-width:0.8;\" x=\"43.78125\" xlink:href=\"#mfaacadb280\" y=\"97.975219\"/>\r\n      </g>\r\n     </g>\r\n     <g id=\"text_11\">\r\n      <!-- 0.6 -->\r\n      <g transform=\"translate(20.878125 101.774437)scale(0.1 -0.1)\">\r\n       <use xlink:href=\"#DejaVuSans-30\"/>\r\n       <use x=\"63.623047\" xlink:href=\"#DejaVuSans-2e\"/>\r\n       <use x=\"95.410156\" xlink:href=\"#DejaVuSans-36\"/>\r\n      </g>\r\n     </g>\r\n    </g>\r\n    <g id=\"ytick_5\">\r\n     <g id=\"line2d_11\">\r\n      <g>\r\n       <use style=\"stroke:#000000;stroke-width:0.8;\" x=\"43.78125\" xlink:href=\"#mfaacadb280\" y=\"54.487219\"/>\r\n      </g>\r\n     </g>\r\n     <g id=\"text_12\">\r\n      <!-- 0.8 -->\r\n      <g transform=\"translate(20.878125 58.286437)scale(0.1 -0.1)\">\r\n       <use xlink:href=\"#DejaVuSans-30\"/>\r\n       <use x=\"63.623047\" xlink:href=\"#DejaVuSans-2e\"/>\r\n       <use x=\"95.410156\" xlink:href=\"#DejaVuSans-38\"/>\r\n      </g>\r\n     </g>\r\n    </g>\r\n    <g id=\"ytick_6\">\r\n     <g id=\"line2d_12\">\r\n      <g>\r\n       <use style=\"stroke:#000000;stroke-width:0.8;\" x=\"43.78125\" xlink:href=\"#mfaacadb280\" y=\"10.999219\"/>\r\n      </g>\r\n     </g>\r\n     <g id=\"text_13\">\r\n      <!-- 1.0 -->\r\n      <g transform=\"translate(20.878125 14.798437)scale(0.1 -0.1)\">\r\n       <use xlink:href=\"#DejaVuSans-31\"/>\r\n       <use x=\"63.623047\" xlink:href=\"#DejaVuSans-2e\"/>\r\n       <use x=\"95.410156\" xlink:href=\"#DejaVuSans-30\"/>\r\n      </g>\r\n     </g>\r\n    </g>\r\n    <g id=\"text_14\">\r\n     <!-- predicted -->\r\n     <g transform=\"translate(14.798438 143.436406)rotate(-90)scale(0.1 -0.1)\">\r\n      <defs>\r\n       <path d=\"M 1159 525 \r\nL 1159 -1331 \r\nL 581 -1331 \r\nL 581 3500 \r\nL 1159 3500 \r\nL 1159 2969 \r\nQ 1341 3281 1617 3432 \r\nQ 1894 3584 2278 3584 \r\nQ 2916 3584 3314 3078 \r\nQ 3713 2572 3713 1747 \r\nQ 3713 922 3314 415 \r\nQ 2916 -91 2278 -91 \r\nQ 1894 -91 1617 61 \r\nQ 1341 213 1159 525 \r\nz\r\nM 3116 1747 \r\nQ 3116 2381 2855 2742 \r\nQ 2594 3103 2138 3103 \r\nQ 1681 3103 1420 2742 \r\nQ 1159 2381 1159 1747 \r\nQ 1159 1113 1420 752 \r\nQ 1681 391 2138 391 \r\nQ 2594 391 2855 752 \r\nQ 3116 1113 3116 1747 \r\nz\r\n\" id=\"DejaVuSans-70\" transform=\"scale(0.015625)\"/>\r\n       <path d=\"M 2906 2969 \r\nL 2906 4863 \r\nL 3481 4863 \r\nL 3481 0 \r\nL 2906 0 \r\nL 2906 525 \r\nQ 2725 213 2448 61 \r\nQ 2172 -91 1784 -91 \r\nQ 1150 -91 751 415 \r\nQ 353 922 353 1747 \r\nQ 353 2572 751 3078 \r\nQ 1150 3584 1784 3584 \r\nQ 2172 3584 2448 3432 \r\nQ 2725 3281 2906 2969 \r\nz\r\nM 947 1747 \r\nQ 947 1113 1208 752 \r\nQ 1469 391 1925 391 \r\nQ 2381 391 2643 752 \r\nQ 2906 1113 2906 1747 \r\nQ 2906 2381 2643 2742 \r\nQ 2381 3103 1925 3103 \r\nQ 1469 3103 1208 2742 \r\nQ 947 2381 947 1747 \r\nz\r\n\" id=\"DejaVuSans-64\" transform=\"scale(0.015625)\"/>\r\n       <path d=\"M 603 3500 \r\nL 1178 3500 \r\nL 1178 0 \r\nL 603 0 \r\nL 603 3500 \r\nz\r\nM 603 4863 \r\nL 1178 4863 \r\nL 1178 4134 \r\nL 603 4134 \r\nL 603 4863 \r\nz\r\n\" id=\"DejaVuSans-69\" transform=\"scale(0.015625)\"/>\r\n       <path d=\"M 3122 3366 \r\nL 3122 2828 \r\nQ 2878 2963 2633 3030 \r\nQ 2388 3097 2138 3097 \r\nQ 1578 3097 1268 2742 \r\nQ 959 2388 959 1747 \r\nQ 959 1106 1268 751 \r\nQ 1578 397 2138 397 \r\nQ 2388 397 2633 464 \r\nQ 2878 531 3122 666 \r\nL 3122 134 \r\nQ 2881 22 2623 -34 \r\nQ 2366 -91 2075 -91 \r\nQ 1284 -91 818 406 \r\nQ 353 903 353 1747 \r\nQ 353 2603 823 3093 \r\nQ 1294 3584 2113 3584 \r\nQ 2378 3584 2631 3529 \r\nQ 2884 3475 3122 3366 \r\nz\r\n\" id=\"DejaVuSans-63\" transform=\"scale(0.015625)\"/>\r\n      </defs>\r\n      <use xlink:href=\"#DejaVuSans-70\"/>\r\n      <use x=\"63.476562\" xlink:href=\"#DejaVuSans-72\"/>\r\n      <use x=\"102.339844\" xlink:href=\"#DejaVuSans-65\"/>\r\n      <use x=\"163.863281\" xlink:href=\"#DejaVuSans-64\"/>\r\n      <use x=\"227.339844\" xlink:href=\"#DejaVuSans-69\"/>\r\n      <use x=\"255.123047\" xlink:href=\"#DejaVuSans-63\"/>\r\n      <use x=\"310.103516\" xlink:href=\"#DejaVuSans-74\"/>\r\n      <use x=\"349.3125\" xlink:href=\"#DejaVuSans-65\"/>\r\n      <use x=\"410.835938\" xlink:href=\"#DejaVuSans-64\"/>\r\n     </g>\r\n    </g>\r\n   </g>\r\n   <g id=\"LineCollection_1\">\r\n    <path clip-path=\"url(#pb22f7d13a0)\" d=\"M 151.140545 167.880481 \r\nL 151.140545 47.266578 \r\n\" style=\"fill:none;stroke:#1f77b4;stroke-width:1.5;\"/>\r\n    <path clip-path=\"url(#pb22f7d13a0)\" d=\"M 107.164709 167.885343 \r\nL 107.164709 47.265552 \r\n\" style=\"fill:none;stroke:#1f77b4;stroke-width:1.5;\"/>\r\n    <path clip-path=\"url(#pb22f7d13a0)\" d=\"M 104.323812 167.55587 \r\nL 104.323812 47.334209 \r\n\" style=\"fill:none;stroke:#1f77b4;stroke-width:1.5;\"/>\r\n    <path clip-path=\"url(#pb22f7d13a0)\" d=\"M 203.58396 167.872078 \r\nL 203.58396 47.268346 \r\n\" style=\"fill:none;stroke:#1f77b4;stroke-width:1.5;\"/>\r\n    <path clip-path=\"url(#pb22f7d13a0)\" d=\"M 78.553737 167.805286 \r\nL 78.553737 47.282414 \r\n\" style=\"fill:none;stroke:#1f77b4;stroke-width:1.5;\"/>\r\n    <path clip-path=\"url(#pb22f7d13a0)\" d=\"M 124.880961 167.88575 \r\nL 124.880961 47.265456 \r\n\" style=\"fill:none;stroke:#1f77b4;stroke-width:1.5;\"/>\r\n    <path clip-path=\"url(#pb22f7d13a0)\" d=\"M 169.659984 167.713345 \r\nL 169.659984 47.301621 \r\n\" style=\"fill:none;stroke:#1f77b4;stroke-width:1.5;\"/>\r\n    <path clip-path=\"url(#pb22f7d13a0)\" d=\"M 136.869965 167.878853 \r\nL 136.869965 47.26691 \r\n\" style=\"fill:none;stroke:#1f77b4;stroke-width:1.5;\"/>\r\n    <path clip-path=\"url(#pb22f7d13a0)\" d=\"M 180.630224 167.881103 \r\nL 180.630224 47.266422 \r\n\" style=\"fill:none;stroke:#1f77b4;stroke-width:1.5;\"/>\r\n    <path clip-path=\"url(#pb22f7d13a0)\" d=\"M 246.533945 167.748699 \r\nL 246.533945 47.294262 \r\n\" style=\"fill:none;stroke:#1f77b4;stroke-width:1.5;\"/>\r\n    <path clip-path=\"url(#pb22f7d13a0)\" d=\"M 85.9218 167.864177 \r\nL 85.9218 47.270025 \r\n\" style=\"fill:none;stroke:#1f77b4;stroke-width:1.5;\"/>\r\n    <path clip-path=\"url(#pb22f7d13a0)\" d=\"M 174.390102 167.35344 \r\nL 174.390102 47.375515 \r\n\" style=\"fill:none;stroke:#1f77b4;stroke-width:1.5;\"/>\r\n    <path clip-path=\"url(#pb22f7d13a0)\" d=\"M 65.587868 167.885305 \r\nL 65.587868 47.265539 \r\n\" style=\"fill:none;stroke:#1f77b4;stroke-width:1.5;\"/>\r\n    <path clip-path=\"url(#pb22f7d13a0)\" d=\"M 121.822207 167.88418 \r\nL 121.822207 47.265782 \r\n\" style=\"fill:none;stroke:#1f77b4;stroke-width:1.5;\"/>\r\n    <path clip-path=\"url(#pb22f7d13a0)\" d=\"M 171.771882 167.883239 \r\nL 171.771882 47.265997 \r\n\" style=\"fill:none;stroke:#1f77b4;stroke-width:1.5;\"/>\r\n    <path clip-path=\"url(#pb22f7d13a0)\" d=\"M 80.905582 167.447097 \r\nL 80.905582 47.356459 \r\n\" style=\"fill:none;stroke:#1f77b4;stroke-width:1.5;\"/>\r\n    <path clip-path=\"url(#pb22f7d13a0)\" d=\"M 107.060094 167.731479 \r\nL 107.060094 47.297848 \r\n\" style=\"fill:none;stroke:#1f77b4;stroke-width:1.5;\"/>\r\n    <path clip-path=\"url(#pb22f7d13a0)\" d=\"M 109.652635 167.55587 \r\nL 109.652635 47.334209 \r\n\" style=\"fill:none;stroke:#1f77b4;stroke-width:1.5;\"/>\r\n    <path clip-path=\"url(#pb22f7d13a0)\" d=\"M 95.743212 167.642005 \r\nL 95.743212 47.316454 \r\n\" style=\"fill:none;stroke:#1f77b4;stroke-width:1.5;\"/>\r\n    <path clip-path=\"url(#pb22f7d13a0)\" d=\"M 57.975126 167.864177 \r\nL 57.975126 47.270025 \r\n\" style=\"fill:none;stroke:#1f77b4;stroke-width:1.5;\"/>\r\n    <path clip-path=\"url(#pb22f7d13a0)\" d=\"M 72.36876 167.137166 \r\nL 72.36876 47.419053 \r\n\" style=\"fill:none;stroke:#1f77b4;stroke-width:1.5;\"/>\r\n    <path clip-path=\"url(#pb22f7d13a0)\" d=\"M 110.906091 167.252319 \r\nL 110.906091 47.395919 \r\n\" style=\"fill:none;stroke:#1f77b4;stroke-width:1.5;\"/>\r\n    <path clip-path=\"url(#pb22f7d13a0)\" d=\"M 151.691948 167.885305 \r\nL 151.691948 47.265539 \r\n\" style=\"fill:none;stroke:#1f77b4;stroke-width:1.5;\"/>\r\n    <path clip-path=\"url(#pb22f7d13a0)\" d=\"M 117.578153 167.878853 \r\nL 117.578153 47.26691 \r\n\" style=\"fill:none;stroke:#1f77b4;stroke-width:1.5;\"/>\r\n    <path clip-path=\"url(#pb22f7d13a0)\" d=\"M 117.112253 167.63711 \r\nL 117.112253 47.317461 \r\n\" style=\"fill:none;stroke:#1f77b4;stroke-width:1.5;\"/>\r\n    <path clip-path=\"url(#pb22f7d13a0)\" d=\"M 190.346898 167.77794 \r\nL 190.346898 47.288142 \r\n\" style=\"fill:none;stroke:#1f77b4;stroke-width:1.5;\"/>\r\n    <path clip-path=\"url(#pb22f7d13a0)\" d=\"M 82.104023 167.096154 \r\nL 82.104023 47.427249 \r\n\" style=\"fill:none;stroke:#1f77b4;stroke-width:1.5;\"/>\r\n    <path clip-path=\"url(#pb22f7d13a0)\" d=\"M 176.487137 167.662245 \r\nL 176.487137 47.312233 \r\n\" style=\"fill:none;stroke:#1f77b4;stroke-width:1.5;\"/>\r\n    <path clip-path=\"url(#pb22f7d13a0)\" d=\"M 79.887288 167.366145 \r\nL 79.887288 47.37292 \r\n\" style=\"fill:none;stroke:#1f77b4;stroke-width:1.5;\"/>\r\n    <path clip-path=\"url(#pb22f7d13a0)\" d=\"M 115.160402 167.841539 \r\nL 115.160402 47.274778 \r\n\" style=\"fill:none;stroke:#1f77b4;stroke-width:1.5;\"/>\r\n    <path clip-path=\"url(#pb22f7d13a0)\" d=\"M 199.116989 167.072901 \r\nL 199.116989 47.431891 \r\n\" style=\"fill:none;stroke:#1f77b4;stroke-width:1.5;\"/>\r\n    <path clip-path=\"url(#pb22f7d13a0)\" d=\"M 115.549259 167.883716 \r\nL 115.549259 47.265883 \r\n\" style=\"fill:none;stroke:#1f77b4;stroke-width:1.5;\"/>\r\n    <path clip-path=\"url(#pb22f7d13a0)\" d=\"M 99.12022 167.637071 \r\nL 99.12022 47.317448 \r\n\" style=\"fill:none;stroke:#1f77b4;stroke-width:1.5;\"/>\r\n    <path clip-path=\"url(#pb22f7d13a0)\" d=\"M 264.910877 167.850665 \r\nL 264.910877 47.272858 \r\n\" style=\"fill:none;stroke:#1f77b4;stroke-width:1.5;\"/>\r\n    <path clip-path=\"url(#pb22f7d13a0)\" d=\"M 127.673132 167.093369 \r\nL 127.673132 47.427805 \r\n\" style=\"fill:none;stroke:#1f77b4;stroke-width:1.5;\"/>\r\n    <path clip-path=\"url(#pb22f7d13a0)\" d=\"M 144.217491 167.748699 \r\nL 144.217491 47.294262 \r\n\" style=\"fill:none;stroke:#1f77b4;stroke-width:1.5;\"/>\r\n    <path clip-path=\"url(#pb22f7d13a0)\" d=\"M 131.508284 167.713345 \r\nL 131.508284 47.301621 \r\n\" style=\"fill:none;stroke:#1f77b4;stroke-width:1.5;\"/>\r\n    <path clip-path=\"url(#pb22f7d13a0)\" d=\"M 131.102586 167.35436 \r\nL 131.102586 47.375322 \r\n\" style=\"fill:none;stroke:#1f77b4;stroke-width:1.5;\"/>\r\n    <path clip-path=\"url(#pb22f7d13a0)\" d=\"M 124.903835 167.137166 \r\nL 124.903835 47.419053 \r\n\" style=\"fill:none;stroke:#1f77b4;stroke-width:1.5;\"/>\r\n    <path clip-path=\"url(#pb22f7d13a0)\" d=\"M 144.594389 167.55587 \r\nL 144.594389 47.334209 \r\n\" style=\"fill:none;stroke:#1f77b4;stroke-width:1.5;\"/>\r\n    <path clip-path=\"url(#pb22f7d13a0)\" d=\"M 113.692039 167.713345 \r\nL 113.692039 47.301621 \r\n\" style=\"fill:none;stroke:#1f77b4;stroke-width:1.5;\"/>\r\n    <path clip-path=\"url(#pb22f7d13a0)\" d=\"M 128.148737 167.400276 \r\nL 128.148737 47.366005 \r\n\" style=\"fill:none;stroke:#1f77b4;stroke-width:1.5;\"/>\r\n    <path clip-path=\"url(#pb22f7d13a0)\" d=\"M 82.900836 167.88418 \r\nL 82.900836 47.265782 \r\n\" style=\"fill:none;stroke:#1f77b4;stroke-width:1.5;\"/>\r\n    <path clip-path=\"url(#pb22f7d13a0)\" d=\"M 107.933116 167.880481 \r\nL 107.933116 47.266578 \r\n\" style=\"fill:none;stroke:#1f77b4;stroke-width:1.5;\"/>\r\n    <path clip-path=\"url(#pb22f7d13a0)\" d=\"M 128.183564 167.841539 \r\nL 128.183564 47.274778 \r\n\" style=\"fill:none;stroke:#1f77b4;stroke-width:1.5;\"/>\r\n    <path clip-path=\"url(#pb22f7d13a0)\" d=\"M 85.700709 167.841539 \r\nL 85.700709 47.274778 \r\n\" style=\"fill:none;stroke:#1f77b4;stroke-width:1.5;\"/>\r\n    <path clip-path=\"url(#pb22f7d13a0)\" d=\"M 81.996994 167.88472 \r\nL 81.996994 47.265657 \r\n\" style=\"fill:none;stroke:#1f77b4;stroke-width:1.5;\"/>\r\n    <path clip-path=\"url(#pb22f7d13a0)\" d=\"M 114.14531 167.881281 \r\nL 114.14531 47.2664 \r\n\" style=\"fill:none;stroke:#1f77b4;stroke-width:1.5;\"/>\r\n    <path clip-path=\"url(#pb22f7d13a0)\" d=\"M 220.499746 167.715835 \r\nL 220.499746 47.301101 \r\n\" style=\"fill:none;stroke:#1f77b4;stroke-width:1.5;\"/>\r\n    <path clip-path=\"url(#pb22f7d13a0)\" d=\"M 130.777968 167.859137 \r\nL 130.777968 47.271074 \r\n\" style=\"fill:none;stroke:#1f77b4;stroke-width:1.5;\"/>\r\n   </g>\r\n   <g id=\"LineCollection_2\">\r\n    <path clip-path=\"url(#pb22f7d13a0)\" d=\"M 201.218157 116.168895 \r\nL 201.218157 12.958104 \r\n\" style=\"fill:none;stroke:#ff7f0e;stroke-width:1.5;\"/>\r\n    <path clip-path=\"url(#pb22f7d13a0)\" d=\"M 210.809876 116.181771 \r\nL 210.809876 12.96581 \r\n\" style=\"fill:none;stroke:#ff7f0e;stroke-width:1.5;\"/>\r\n    <path clip-path=\"url(#pb22f7d13a0)\" d=\"M 237.242286 115.310407 \r\nL 237.242286 12.445172 \r\n\" style=\"fill:none;stroke:#ff7f0e;stroke-width:1.5;\"/>\r\n    <path clip-path=\"url(#pb22f7d13a0)\" d=\"M 214.449797 116.146692 \r\nL 214.449797 12.944849 \r\n\" style=\"fill:none;stroke:#ff7f0e;stroke-width:1.5;\"/>\r\n    <path clip-path=\"url(#pb22f7d13a0)\" d=\"M 217.223576 115.97006 \r\nL 217.223576 12.839305 \r\n\" style=\"fill:none;stroke:#ff7f0e;stroke-width:1.5;\"/>\r\n    <path clip-path=\"url(#pb22f7d13a0)\" d=\"M 209.065989 116.182851 \r\nL 209.065989 12.966441 \r\n\" style=\"fill:none;stroke:#ff7f0e;stroke-width:1.5;\"/>\r\n    <path clip-path=\"url(#pb22f7d13a0)\" d=\"M 213.248817 115.726967 \r\nL 213.248817 12.694053 \r\n\" style=\"fill:none;stroke:#ff7f0e;stroke-width:1.5;\"/>\r\n    <path clip-path=\"url(#pb22f7d13a0)\" d=\"M 202.690654 116.164635 \r\nL 202.690654 12.955574 \r\n\" style=\"fill:none;stroke:#ff7f0e;stroke-width:1.5;\"/>\r\n    <path clip-path=\"url(#pb22f7d13a0)\" d=\"M 208.299582 116.170609 \r\nL 208.299582 12.959139 \r\n\" style=\"fill:none;stroke:#ff7f0e;stroke-width:1.5;\"/>\r\n    <path clip-path=\"url(#pb22f7d13a0)\" d=\"M 219.345183 115.820431 \r\nL 219.345183 12.749892 \r\n\" style=\"fill:none;stroke:#ff7f0e;stroke-width:1.5;\"/>\r\n    <path clip-path=\"url(#pb22f7d13a0)\" d=\"M 207.112389 116.125762 \r\nL 207.112389 12.93234 \r\n\" style=\"fill:none;stroke:#ff7f0e;stroke-width:1.5;\"/>\r\n    <path clip-path=\"url(#pb22f7d13a0)\" d=\"M 225.449819 114.774856 \r\nL 225.449819 12.125126 \r\n\" style=\"fill:none;stroke:#ff7f0e;stroke-width:1.5;\"/>\r\n    <path clip-path=\"url(#pb22f7d13a0)\" d=\"M 211.3577 116.181714 \r\nL 211.3577 12.965764 \r\n\" style=\"fill:none;stroke:#ff7f0e;stroke-width:1.5;\"/>\r\n    <path clip-path=\"url(#pb22f7d13a0)\" d=\"M 208.155912 116.178726 \r\nL 208.155912 12.963981 \r\n\" style=\"fill:none;stroke:#ff7f0e;stroke-width:1.5;\"/>\r\n    <path clip-path=\"url(#pb22f7d13a0)\" d=\"M 209.137673 116.17619 \r\nL 209.137673 12.962474 \r\n\" style=\"fill:none;stroke:#ff7f0e;stroke-width:1.5;\"/>\r\n    <path clip-path=\"url(#pb22f7d13a0)\" d=\"M 223.700554 115.022664 \r\nL 223.700554 12.273234 \r\n\" style=\"fill:none;stroke:#ff7f0e;stroke-width:1.5;\"/>\r\n    <path clip-path=\"url(#pb22f7d13a0)\" d=\"M 221.39807 115.774867 \r\nL 221.39807 12.722671 \r\n\" style=\"fill:none;stroke:#ff7f0e;stroke-width:1.5;\"/>\r\n    <path clip-path=\"url(#pb22f7d13a0)\" d=\"M 222.673952 115.310407 \r\nL 222.673952 12.445172 \r\n\" style=\"fill:none;stroke:#ff7f0e;stroke-width:1.5;\"/>\r\n    <path clip-path=\"url(#pb22f7d13a0)\" d=\"M 217.9254 115.538221 \r\nL 217.9254 12.581287 \r\n\" style=\"fill:none;stroke:#ff7f0e;stroke-width:1.5;\"/>\r\n    <path clip-path=\"url(#pb22f7d13a0)\" d=\"M 190.734373 116.125762 \r\nL 190.734373 12.93234 \r\n\" style=\"fill:none;stroke:#ff7f0e;stroke-width:1.5;\"/>\r\n    <path clip-path=\"url(#pb22f7d13a0)\" d=\"M 220.292016 114.20242 \r\nL 220.292016 11.782763 \r\n\" style=\"fill:none;stroke:#ff7f0e;stroke-width:1.5;\"/>\r\n    <path clip-path=\"url(#pb22f7d13a0)\" d=\"M 224.154276 114.507237 \r\nL 224.154276 11.965103 \r\n\" style=\"fill:none;stroke:#ff7f0e;stroke-width:1.5;\"/>\r\n    <path clip-path=\"url(#pb22f7d13a0)\" d=\"M 201.036739 116.181714 \r\nL 201.036739 12.965764 \r\n\" style=\"fill:none;stroke:#ff7f0e;stroke-width:1.5;\"/>\r\n    <path clip-path=\"url(#pb22f7d13a0)\" d=\"M 207.201583 116.164635 \r\nL 207.201583 12.955574 \r\n\" style=\"fill:none;stroke:#ff7f0e;stroke-width:1.5;\"/>\r\n    <path clip-path=\"url(#pb22f7d13a0)\" d=\"M 217.560691 115.525267 \r\nL 217.560691 12.573556 \r\n\" style=\"fill:none;stroke:#ff7f0e;stroke-width:1.5;\"/>\r\n    <path clip-path=\"url(#pb22f7d13a0)\" d=\"M 214.001947 115.897759 \r\nL 214.001947 12.796103 \r\n\" style=\"fill:none;stroke:#ff7f0e;stroke-width:1.5;\"/>\r\n    <path clip-path=\"url(#pb22f7d13a0)\" d=\"M 238.231133 114.093841 \r\nL 238.231133 11.717776 \r\n\" style=\"fill:none;stroke:#ff7f0e;stroke-width:1.5;\"/>\r\n    <path clip-path=\"url(#pb22f7d13a0)\" d=\"M 221.882855 115.591799 \r\nL 221.882855 12.6133 \r\n\" style=\"fill:none;stroke:#ff7f0e;stroke-width:1.5;\"/>\r\n    <path clip-path=\"url(#pb22f7d13a0)\" d=\"M 230.351403 114.808505 \r\nL 230.351403 12.145237 \r\n\" style=\"fill:none;stroke:#ff7f0e;stroke-width:1.5;\"/>\r\n    <path clip-path=\"url(#pb22f7d13a0)\" d=\"M 206.32293 116.065993 \r\nL 206.32293 12.896617 \r\n\" style=\"fill:none;stroke:#ff7f0e;stroke-width:1.5;\"/>\r\n    <path clip-path=\"url(#pb22f7d13a0)\" d=\"M 236.474428 114.032281 \r\nL 236.474428 11.680941 \r\n\" style=\"fill:none;stroke:#ff7f0e;stroke-width:1.5;\"/>\r\n    <path clip-path=\"url(#pb22f7d13a0)\" d=\"M 201.463307 116.177521 \r\nL 201.463307 12.963269 \r\n\" style=\"fill:none;stroke:#ff7f0e;stroke-width:1.5;\"/>\r\n    <path clip-path=\"url(#pb22f7d13a0)\" d=\"M 230.43373 115.525209 \r\nL 230.43373 12.57351 \r\n\" style=\"fill:none;stroke:#ff7f0e;stroke-width:1.5;\"/>\r\n    <path clip-path=\"url(#pb22f7d13a0)\" d=\"M 214.272779 116.090102 \r\nL 214.272779 12.911026 \r\n\" style=\"fill:none;stroke:#ff7f0e;stroke-width:1.5;\"/>\r\n    <path clip-path=\"url(#pb22f7d13a0)\" d=\"M 229.567398 114.086473 \r\nL 229.567398 11.713376 \r\n\" style=\"fill:none;stroke:#ff7f0e;stroke-width:1.5;\"/>\r\n    <path clip-path=\"url(#pb22f7d13a0)\" d=\"M 218.651434 115.820431 \r\nL 218.651434 12.749892 \r\n\" style=\"fill:none;stroke:#ff7f0e;stroke-width:1.5;\"/>\r\n    <path clip-path=\"url(#pb22f7d13a0)\" d=\"M 212.884065 115.726967 \r\nL 212.884065 12.694053 \r\n\" style=\"fill:none;stroke:#ff7f0e;stroke-width:1.5;\"/>\r\n    <path clip-path=\"url(#pb22f7d13a0)\" d=\"M 221.98662 114.77726 \r\nL 221.98662 12.126559 \r\n\" style=\"fill:none;stroke:#ff7f0e;stroke-width:1.5;\"/>\r\n    <path clip-path=\"url(#pb22f7d13a0)\" d=\"M 221.519872 114.20242 \r\nL 221.519872 11.782763 \r\n\" style=\"fill:none;stroke:#ff7f0e;stroke-width:1.5;\"/>\r\n    <path clip-path=\"url(#pb22f7d13a0)\" d=\"M 228.047412 115.310407 \r\nL 228.047412 12.445172 \r\n\" style=\"fill:none;stroke:#ff7f0e;stroke-width:1.5;\"/>\r\n    <path clip-path=\"url(#pb22f7d13a0)\" d=\"M 212.538509 115.726967 \r\nL 212.538509 12.694053 \r\n\" style=\"fill:none;stroke:#ff7f0e;stroke-width:1.5;\"/>\r\n    <path clip-path=\"url(#pb22f7d13a0)\" d=\"M 233.973784 114.898771 \r\nL 233.973784 12.199196 \r\n\" style=\"fill:none;stroke:#ff7f0e;stroke-width:1.5;\"/>\r\n    <path clip-path=\"url(#pb22f7d13a0)\" d=\"M 212.833439 116.178726 \r\nL 212.833439 12.963981 \r\n\" style=\"fill:none;stroke:#ff7f0e;stroke-width:1.5;\"/>\r\n    <path clip-path=\"url(#pb22f7d13a0)\" d=\"M 203.756173 116.168895 \r\nL 203.756173 12.958104 \r\n\" style=\"fill:none;stroke:#ff7f0e;stroke-width:1.5;\"/>\r\n    <path clip-path=\"url(#pb22f7d13a0)\" d=\"M 206.996706 116.065993 \r\nL 206.996706 12.896617 \r\n\" style=\"fill:none;stroke:#ff7f0e;stroke-width:1.5;\"/>\r\n    <path clip-path=\"url(#pb22f7d13a0)\" d=\"M 210.52875 116.065993 \r\nL 210.52875 12.896617 \r\n\" style=\"fill:none;stroke:#ff7f0e;stroke-width:1.5;\"/>\r\n    <path clip-path=\"url(#pb22f7d13a0)\" d=\"M 189.960545 116.180183 \r\nL 189.960545 12.964858 \r\n\" style=\"fill:none;stroke:#ff7f0e;stroke-width:1.5;\"/>\r\n    <path clip-path=\"url(#pb22f7d13a0)\" d=\"M 211.693145 116.171065 \r\nL 211.693145 12.959408 \r\n\" style=\"fill:none;stroke:#ff7f0e;stroke-width:1.5;\"/>\r\n    <path clip-path=\"url(#pb22f7d13a0)\" d=\"M 212.875343 115.733552 \r\nL 212.875343 12.697991 \r\n\" style=\"fill:none;stroke:#ff7f0e;stroke-width:1.5;\"/>\r\n    <path clip-path=\"url(#pb22f7d13a0)\" d=\"M 203.660495 116.112488 \r\nL 203.660495 12.924411 \r\n\" style=\"fill:none;stroke:#ff7f0e;stroke-width:1.5;\"/>\r\n   </g>\r\n   <g id=\"line2d_13\">\r\n    <defs>\r\n     <path d=\"M 0 3 \r\nC 0.795609 3 1.55874 2.683901 2.12132 2.12132 \r\nC 2.683901 1.55874 3 0.795609 3 0 \r\nC 3 -0.795609 2.683901 -1.55874 2.12132 -2.12132 \r\nC 1.55874 -2.683901 0.795609 -3 0 -3 \r\nC -0.795609 -3 -1.55874 -2.683901 -2.12132 -2.12132 \r\nC -2.683901 -1.55874 -3 -0.795609 -3 0 \r\nC -3 0.795609 -2.683901 1.55874 -2.12132 2.12132 \r\nC -1.55874 2.683901 -0.795609 3 0 3 \r\nz\r\n\" id=\"mbe42626faf\" style=\"stroke:#1f77b4;\"/>\r\n    </defs>\r\n    <g clip-path=\"url(#pb22f7d13a0)\">\r\n     <use style=\"fill:#1f77b4;stroke:#1f77b4;\" x=\"151.140545\" xlink:href=\"#mbe42626faf\" y=\"107.57353\"/>\r\n     <use style=\"fill:#1f77b4;stroke:#1f77b4;\" x=\"107.164709\" xlink:href=\"#mbe42626faf\" y=\"107.575448\"/>\r\n     <use style=\"fill:#1f77b4;stroke:#1f77b4;\" x=\"104.323812\" xlink:href=\"#mbe42626faf\" y=\"107.44504\"/>\r\n     <use style=\"fill:#1f77b4;stroke:#1f77b4;\" x=\"203.58396\" xlink:href=\"#mbe42626faf\" y=\"107.570212\"/>\r\n     <use style=\"fill:#1f77b4;stroke:#1f77b4;\" x=\"78.553737\" xlink:href=\"#mbe42626faf\" y=\"107.54385\"/>\r\n     <use style=\"fill:#1f77b4;stroke:#1f77b4;\" x=\"124.880961\" xlink:href=\"#mbe42626faf\" y=\"107.575603\"/>\r\n     <use style=\"fill:#1f77b4;stroke:#1f77b4;\" x=\"169.659984\" xlink:href=\"#mbe42626faf\" y=\"107.507483\"/>\r\n     <use style=\"fill:#1f77b4;stroke:#1f77b4;\" x=\"136.869965\" xlink:href=\"#mbe42626faf\" y=\"107.572881\"/>\r\n     <use style=\"fill:#1f77b4;stroke:#1f77b4;\" x=\"180.630224\" xlink:href=\"#mbe42626faf\" y=\"107.573763\"/>\r\n     <use style=\"fill:#1f77b4;stroke:#1f77b4;\" x=\"246.533945\" xlink:href=\"#mbe42626faf\" y=\"107.52148\"/>\r\n     <use style=\"fill:#1f77b4;stroke:#1f77b4;\" x=\"85.9218\" xlink:href=\"#mbe42626faf\" y=\"107.567101\"/>\r\n     <use style=\"fill:#1f77b4;stroke:#1f77b4;\" x=\"174.390102\" xlink:href=\"#mbe42626faf\" y=\"107.364478\"/>\r\n     <use style=\"fill:#1f77b4;stroke:#1f77b4;\" x=\"65.587868\" xlink:href=\"#mbe42626faf\" y=\"107.575422\"/>\r\n     <use style=\"fill:#1f77b4;stroke:#1f77b4;\" x=\"121.822207\" xlink:href=\"#mbe42626faf\" y=\"107.574981\"/>\r\n     <use style=\"fill:#1f77b4;stroke:#1f77b4;\" x=\"171.771882\" xlink:href=\"#mbe42626faf\" y=\"107.574618\"/>\r\n     <use style=\"fill:#1f77b4;stroke:#1f77b4;\" x=\"80.905582\" xlink:href=\"#mbe42626faf\" y=\"107.401778\"/>\r\n     <use style=\"fill:#1f77b4;stroke:#1f77b4;\" x=\"107.060094\" xlink:href=\"#mbe42626faf\" y=\"107.514663\"/>\r\n     <use style=\"fill:#1f77b4;stroke:#1f77b4;\" x=\"109.652635\" xlink:href=\"#mbe42626faf\" y=\"107.44504\"/>\r\n     <use style=\"fill:#1f77b4;stroke:#1f77b4;\" x=\"95.743212\" xlink:href=\"#mbe42626faf\" y=\"107.479229\"/>\r\n     <use style=\"fill:#1f77b4;stroke:#1f77b4;\" x=\"57.975126\" xlink:href=\"#mbe42626faf\" y=\"107.567101\"/>\r\n     <use style=\"fill:#1f77b4;stroke:#1f77b4;\" x=\"72.36876\" xlink:href=\"#mbe42626faf\" y=\"107.278109\"/>\r\n     <use style=\"fill:#1f77b4;stroke:#1f77b4;\" x=\"110.906091\" xlink:href=\"#mbe42626faf\" y=\"107.324119\"/>\r\n     <use style=\"fill:#1f77b4;stroke:#1f77b4;\" x=\"151.691948\" xlink:href=\"#mbe42626faf\" y=\"107.575422\"/>\r\n     <use style=\"fill:#1f77b4;stroke:#1f77b4;\" x=\"117.578153\" xlink:href=\"#mbe42626faf\" y=\"107.572881\"/>\r\n     <use style=\"fill:#1f77b4;stroke:#1f77b4;\" x=\"117.112253\" xlink:href=\"#mbe42626faf\" y=\"107.477285\"/>\r\n     <use style=\"fill:#1f77b4;stroke:#1f77b4;\" x=\"190.346898\" xlink:href=\"#mbe42626faf\" y=\"107.533041\"/>\r\n     <use style=\"fill:#1f77b4;stroke:#1f77b4;\" x=\"82.104023\" xlink:href=\"#mbe42626faf\" y=\"107.261701\"/>\r\n     <use style=\"fill:#1f77b4;stroke:#1f77b4;\" x=\"176.487137\" xlink:href=\"#mbe42626faf\" y=\"107.487239\"/>\r\n     <use style=\"fill:#1f77b4;stroke:#1f77b4;\" x=\"79.887288\" xlink:href=\"#mbe42626faf\" y=\"107.369532\"/>\r\n     <use style=\"fill:#1f77b4;stroke:#1f77b4;\" x=\"115.160402\" xlink:href=\"#mbe42626faf\" y=\"107.558158\"/>\r\n     <use style=\"fill:#1f77b4;stroke:#1f77b4;\" x=\"199.116989\" xlink:href=\"#mbe42626faf\" y=\"107.252396\"/>\r\n     <use style=\"fill:#1f77b4;stroke:#1f77b4;\" x=\"115.549259\" xlink:href=\"#mbe42626faf\" y=\"107.5748\"/>\r\n     <use style=\"fill:#1f77b4;stroke:#1f77b4;\" x=\"99.12022\" xlink:href=\"#mbe42626faf\" y=\"107.477259\"/>\r\n     <use style=\"fill:#1f77b4;stroke:#1f77b4;\" x=\"264.910877\" xlink:href=\"#mbe42626faf\" y=\"107.561761\"/>\r\n     <use style=\"fill:#1f77b4;stroke:#1f77b4;\" x=\"127.673132\" xlink:href=\"#mbe42626faf\" y=\"107.260587\"/>\r\n     <use style=\"fill:#1f77b4;stroke:#1f77b4;\" x=\"144.217491\" xlink:href=\"#mbe42626faf\" y=\"107.52148\"/>\r\n     <use style=\"fill:#1f77b4;stroke:#1f77b4;\" x=\"131.508284\" xlink:href=\"#mbe42626faf\" y=\"107.507483\"/>\r\n     <use style=\"fill:#1f77b4;stroke:#1f77b4;\" x=\"131.102586\" xlink:href=\"#mbe42626faf\" y=\"107.364841\"/>\r\n     <use style=\"fill:#1f77b4;stroke:#1f77b4;\" x=\"124.903835\" xlink:href=\"#mbe42626faf\" y=\"107.278109\"/>\r\n     <use style=\"fill:#1f77b4;stroke:#1f77b4;\" x=\"144.594389\" xlink:href=\"#mbe42626faf\" y=\"107.44504\"/>\r\n     <use style=\"fill:#1f77b4;stroke:#1f77b4;\" x=\"113.692039\" xlink:href=\"#mbe42626faf\" y=\"107.507483\"/>\r\n     <use style=\"fill:#1f77b4;stroke:#1f77b4;\" x=\"128.148737\" xlink:href=\"#mbe42626faf\" y=\"107.383141\"/>\r\n     <use style=\"fill:#1f77b4;stroke:#1f77b4;\" x=\"82.900836\" xlink:href=\"#mbe42626faf\" y=\"107.574981\"/>\r\n     <use style=\"fill:#1f77b4;stroke:#1f77b4;\" x=\"107.933116\" xlink:href=\"#mbe42626faf\" y=\"107.57353\"/>\r\n     <use style=\"fill:#1f77b4;stroke:#1f77b4;\" x=\"128.183564\" xlink:href=\"#mbe42626faf\" y=\"107.558158\"/>\r\n     <use style=\"fill:#1f77b4;stroke:#1f77b4;\" x=\"85.700709\" xlink:href=\"#mbe42626faf\" y=\"107.558158\"/>\r\n     <use style=\"fill:#1f77b4;stroke:#1f77b4;\" x=\"81.996994\" xlink:href=\"#mbe42626faf\" y=\"107.575188\"/>\r\n     <use style=\"fill:#1f77b4;stroke:#1f77b4;\" x=\"114.14531\" xlink:href=\"#mbe42626faf\" y=\"107.573841\"/>\r\n     <use style=\"fill:#1f77b4;stroke:#1f77b4;\" x=\"220.499746\" xlink:href=\"#mbe42626faf\" y=\"107.508468\"/>\r\n     <use style=\"fill:#1f77b4;stroke:#1f77b4;\" x=\"130.777968\" xlink:href=\"#mbe42626faf\" y=\"107.565105\"/>\r\n    </g>\r\n   </g>\r\n   <g id=\"line2d_14\">\r\n    <defs>\r\n     <path d=\"M 0 3 \r\nC 0.795609 3 1.55874 2.683901 2.12132 2.12132 \r\nC 2.683901 1.55874 3 0.795609 3 0 \r\nC 3 -0.795609 2.683901 -1.55874 2.12132 -2.12132 \r\nC 1.55874 -2.683901 0.795609 -3 0 -3 \r\nC -0.795609 -3 -1.55874 -2.683901 -2.12132 -2.12132 \r\nC -2.683901 -1.55874 -3 -0.795609 -3 0 \r\nC -3 0.795609 -2.683901 1.55874 -2.12132 2.12132 \r\nC -1.55874 2.683901 -0.795609 3 0 3 \r\nz\r\n\" id=\"m2d8af40a50\" style=\"stroke:#ff7f0e;\"/>\r\n    </defs>\r\n    <g clip-path=\"url(#pb22f7d13a0)\">\r\n     <use style=\"fill:#ff7f0e;stroke:#ff7f0e;\" x=\"201.218157\" xlink:href=\"#m2d8af40a50\" y=\"64.5635\"/>\r\n     <use style=\"fill:#ff7f0e;stroke:#ff7f0e;\" x=\"210.809876\" xlink:href=\"#m2d8af40a50\" y=\"64.573791\"/>\r\n     <use style=\"fill:#ff7f0e;stroke:#ff7f0e;\" x=\"237.242286\" xlink:href=\"#m2d8af40a50\" y=\"63.877789\"/>\r\n     <use style=\"fill:#ff7f0e;stroke:#ff7f0e;\" x=\"214.449797\" xlink:href=\"#m2d8af40a50\" y=\"64.54577\"/>\r\n     <use style=\"fill:#ff7f0e;stroke:#ff7f0e;\" x=\"217.223576\" xlink:href=\"#m2d8af40a50\" y=\"64.404683\"/>\r\n     <use style=\"fill:#ff7f0e;stroke:#ff7f0e;\" x=\"209.065989\" xlink:href=\"#m2d8af40a50\" y=\"64.574646\"/>\r\n     <use style=\"fill:#ff7f0e;stroke:#ff7f0e;\" x=\"213.248817\" xlink:href=\"#m2d8af40a50\" y=\"64.21051\"/>\r\n     <use style=\"fill:#ff7f0e;stroke:#ff7f0e;\" x=\"202.690654\" xlink:href=\"#m2d8af40a50\" y=\"64.560104\"/>\r\n     <use style=\"fill:#ff7f0e;stroke:#ff7f0e;\" x=\"208.299582\" xlink:href=\"#m2d8af40a50\" y=\"64.564874\"/>\r\n     <use style=\"fill:#ff7f0e;stroke:#ff7f0e;\" x=\"219.345183\" xlink:href=\"#m2d8af40a50\" y=\"64.285162\"/>\r\n     <use style=\"fill:#ff7f0e;stroke:#ff7f0e;\" x=\"207.112389\" xlink:href=\"#m2d8af40a50\" y=\"64.529051\"/>\r\n     <use style=\"fill:#ff7f0e;stroke:#ff7f0e;\" x=\"225.449819\" xlink:href=\"#m2d8af40a50\" y=\"63.449991\"/>\r\n     <use style=\"fill:#ff7f0e;stroke:#ff7f0e;\" x=\"211.3577\" xlink:href=\"#m2d8af40a50\" y=\"64.573739\"/>\r\n     <use style=\"fill:#ff7f0e;stroke:#ff7f0e;\" x=\"208.155912\" xlink:href=\"#m2d8af40a50\" y=\"64.571354\"/>\r\n     <use style=\"fill:#ff7f0e;stroke:#ff7f0e;\" x=\"209.137673\" xlink:href=\"#m2d8af40a50\" y=\"64.569332\"/>\r\n     <use style=\"fill:#ff7f0e;stroke:#ff7f0e;\" x=\"223.700554\" xlink:href=\"#m2d8af40a50\" y=\"63.647949\"/>\r\n     <use style=\"fill:#ff7f0e;stroke:#ff7f0e;\" x=\"221.39807\" xlink:href=\"#m2d8af40a50\" y=\"64.248769\"/>\r\n     <use style=\"fill:#ff7f0e;stroke:#ff7f0e;\" x=\"222.673952\" xlink:href=\"#m2d8af40a50\" y=\"63.877789\"/>\r\n     <use style=\"fill:#ff7f0e;stroke:#ff7f0e;\" x=\"217.9254\" xlink:href=\"#m2d8af40a50\" y=\"64.059754\"/>\r\n     <use style=\"fill:#ff7f0e;stroke:#ff7f0e;\" x=\"190.734373\" xlink:href=\"#m2d8af40a50\" y=\"64.529051\"/>\r\n     <use style=\"fill:#ff7f0e;stroke:#ff7f0e;\" x=\"220.292016\" xlink:href=\"#m2d8af40a50\" y=\"62.992592\"/>\r\n     <use style=\"fill:#ff7f0e;stroke:#ff7f0e;\" x=\"224.154276\" xlink:href=\"#m2d8af40a50\" y=\"63.23617\"/>\r\n     <use style=\"fill:#ff7f0e;stroke:#ff7f0e;\" x=\"201.036739\" xlink:href=\"#m2d8af40a50\" y=\"64.573739\"/>\r\n     <use style=\"fill:#ff7f0e;stroke:#ff7f0e;\" x=\"207.201583\" xlink:href=\"#m2d8af40a50\" y=\"64.560104\"/>\r\n     <use style=\"fill:#ff7f0e;stroke:#ff7f0e;\" x=\"217.560691\" xlink:href=\"#m2d8af40a50\" y=\"64.049411\"/>\r\n     <use style=\"fill:#ff7f0e;stroke:#ff7f0e;\" x=\"214.001947\" xlink:href=\"#m2d8af40a50\" y=\"64.346931\"/>\r\n     <use style=\"fill:#ff7f0e;stroke:#ff7f0e;\" x=\"238.231133\" xlink:href=\"#m2d8af40a50\" y=\"62.905809\"/>\r\n     <use style=\"fill:#ff7f0e;stroke:#ff7f0e;\" x=\"221.882855\" xlink:href=\"#m2d8af40a50\" y=\"64.102549\"/>\r\n     <use style=\"fill:#ff7f0e;stroke:#ff7f0e;\" x=\"230.351403\" xlink:href=\"#m2d8af40a50\" y=\"63.476871\"/>\r\n     <use style=\"fill:#ff7f0e;stroke:#ff7f0e;\" x=\"206.32293\" xlink:href=\"#m2d8af40a50\" y=\"64.481305\"/>\r\n     <use style=\"fill:#ff7f0e;stroke:#ff7f0e;\" x=\"236.474428\" xlink:href=\"#m2d8af40a50\" y=\"62.856611\"/>\r\n     <use style=\"fill:#ff7f0e;stroke:#ff7f0e;\" x=\"201.463307\" xlink:href=\"#m2d8af40a50\" y=\"64.570395\"/>\r\n     <use style=\"fill:#ff7f0e;stroke:#ff7f0e;\" x=\"230.43373\" xlink:href=\"#m2d8af40a50\" y=\"64.04936\"/>\r\n     <use style=\"fill:#ff7f0e;stroke:#ff7f0e;\" x=\"214.272779\" xlink:href=\"#m2d8af40a50\" y=\"64.500564\"/>\r\n     <use style=\"fill:#ff7f0e;stroke:#ff7f0e;\" x=\"229.567398\" xlink:href=\"#m2d8af40a50\" y=\"62.899925\"/>\r\n     <use style=\"fill:#ff7f0e;stroke:#ff7f0e;\" x=\"218.651434\" xlink:href=\"#m2d8af40a50\" y=\"64.285162\"/>\r\n     <use style=\"fill:#ff7f0e;stroke:#ff7f0e;\" x=\"212.884065\" xlink:href=\"#m2d8af40a50\" y=\"64.21051\"/>\r\n     <use style=\"fill:#ff7f0e;stroke:#ff7f0e;\" x=\"221.98662\" xlink:href=\"#m2d8af40a50\" y=\"63.451909\"/>\r\n     <use style=\"fill:#ff7f0e;stroke:#ff7f0e;\" x=\"221.519872\" xlink:href=\"#m2d8af40a50\" y=\"62.992592\"/>\r\n     <use style=\"fill:#ff7f0e;stroke:#ff7f0e;\" x=\"228.047412\" xlink:href=\"#m2d8af40a50\" y=\"63.877789\"/>\r\n     <use style=\"fill:#ff7f0e;stroke:#ff7f0e;\" x=\"212.538509\" xlink:href=\"#m2d8af40a50\" y=\"64.21051\"/>\r\n     <use style=\"fill:#ff7f0e;stroke:#ff7f0e;\" x=\"233.973784\" xlink:href=\"#m2d8af40a50\" y=\"63.548983\"/>\r\n     <use style=\"fill:#ff7f0e;stroke:#ff7f0e;\" x=\"212.833439\" xlink:href=\"#m2d8af40a50\" y=\"64.571354\"/>\r\n     <use style=\"fill:#ff7f0e;stroke:#ff7f0e;\" x=\"203.756173\" xlink:href=\"#m2d8af40a50\" y=\"64.5635\"/>\r\n     <use style=\"fill:#ff7f0e;stroke:#ff7f0e;\" x=\"206.996706\" xlink:href=\"#m2d8af40a50\" y=\"64.481305\"/>\r\n     <use style=\"fill:#ff7f0e;stroke:#ff7f0e;\" x=\"210.52875\" xlink:href=\"#m2d8af40a50\" y=\"64.481305\"/>\r\n     <use style=\"fill:#ff7f0e;stroke:#ff7f0e;\" x=\"189.960545\" xlink:href=\"#m2d8af40a50\" y=\"64.57252\"/>\r\n     <use style=\"fill:#ff7f0e;stroke:#ff7f0e;\" x=\"211.693145\" xlink:href=\"#m2d8af40a50\" y=\"64.565237\"/>\r\n     <use style=\"fill:#ff7f0e;stroke:#ff7f0e;\" x=\"212.875343\" xlink:href=\"#m2d8af40a50\" y=\"64.215772\"/>\r\n     <use style=\"fill:#ff7f0e;stroke:#ff7f0e;\" x=\"203.660495\" xlink:href=\"#m2d8af40a50\" y=\"64.518449\"/>\r\n    </g>\r\n   </g>\r\n   <g id=\"patch_3\">\r\n    <path d=\"M 43.78125 228.439219 \r\nL 43.78125 10.999219 \r\n\" style=\"fill:none;stroke:#000000;stroke-linecap:square;stroke-linejoin:miter;stroke-width:0.8;\"/>\r\n   </g>\r\n   <g id=\"patch_4\">\r\n    <path d=\"M 261.22125 228.439219 \r\nL 261.22125 10.999219 \r\n\" style=\"fill:none;stroke:#000000;stroke-linecap:square;stroke-linejoin:miter;stroke-width:0.8;\"/>\r\n   </g>\r\n   <g id=\"patch_5\">\r\n    <path d=\"M 43.78125 228.439219 \r\nL 261.22125 228.439219 \r\n\" style=\"fill:none;stroke:#000000;stroke-linecap:square;stroke-linejoin:miter;stroke-width:0.8;\"/>\r\n   </g>\r\n   <g id=\"patch_6\">\r\n    <path d=\"M 43.78125 10.999219 \r\nL 261.22125 10.999219 \r\n\" style=\"fill:none;stroke:#000000;stroke-linecap:square;stroke-linejoin:miter;stroke-width:0.8;\"/>\r\n   </g>\r\n   <g id=\"legend_1\">\r\n    <g id=\"patch_7\">\r\n     <path d=\"M 50.78125 223.439219 \r\nL 112.195313 223.439219 \r\nQ 114.195313 223.439219 114.195313 221.439219 \r\nL 114.195313 193.082969 \r\nQ 114.195313 191.082969 112.195313 191.082969 \r\nL 50.78125 191.082969 \r\nQ 48.78125 191.082969 48.78125 193.082969 \r\nL 48.78125 221.439219 \r\nQ 48.78125 223.439219 50.78125 223.439219 \r\nz\r\n\" style=\"fill:#ffffff;opacity:0.8;stroke:#cccccc;stroke-linejoin:miter;\"/>\r\n    </g>\r\n    <g id=\"LineCollection_3\">\r\n     <path d=\"M 62.78125 204.181406 \r\nL 62.78125 194.181406 \r\n\" style=\"fill:none;stroke:#1f77b4;stroke-width:1.5;\"/>\r\n    </g>\r\n    <g id=\"line2d_15\"/>\r\n    <g id=\"line2d_16\">\r\n     <g>\r\n      <use style=\"fill:#1f77b4;stroke:#1f77b4;\" x=\"62.78125\" xlink:href=\"#mbe42626faf\" y=\"199.181406\"/>\r\n     </g>\r\n    </g>\r\n    <g id=\"text_15\">\r\n     <!-- yield -->\r\n     <g transform=\"translate(80.78125 202.681406)scale(0.1 -0.1)\">\r\n      <defs>\r\n       <path d=\"M 2059 -325 \r\nQ 1816 -950 1584 -1140 \r\nQ 1353 -1331 966 -1331 \r\nL 506 -1331 \r\nL 506 -850 \r\nL 844 -850 \r\nQ 1081 -850 1212 -737 \r\nQ 1344 -625 1503 -206 \r\nL 1606 56 \r\nL 191 3500 \r\nL 800 3500 \r\nL 1894 763 \r\nL 2988 3500 \r\nL 3597 3500 \r\nL 2059 -325 \r\nz\r\n\" id=\"DejaVuSans-79\" transform=\"scale(0.015625)\"/>\r\n       <path d=\"M 603 4863 \r\nL 1178 4863 \r\nL 1178 0 \r\nL 603 0 \r\nL 603 4863 \r\nz\r\n\" id=\"DejaVuSans-6c\" transform=\"scale(0.015625)\"/>\r\n      </defs>\r\n      <use xlink:href=\"#DejaVuSans-79\"/>\r\n      <use x=\"59.179688\" xlink:href=\"#DejaVuSans-69\"/>\r\n      <use x=\"86.962891\" xlink:href=\"#DejaVuSans-65\"/>\r\n      <use x=\"148.486328\" xlink:href=\"#DejaVuSans-6c\"/>\r\n      <use x=\"176.269531\" xlink:href=\"#DejaVuSans-64\"/>\r\n     </g>\r\n    </g>\r\n    <g id=\"LineCollection_4\">\r\n     <path d=\"M 62.78125 218.859531 \r\nL 62.78125 208.859531 \r\n\" style=\"fill:none;stroke:#ff7f0e;stroke-width:1.5;\"/>\r\n    </g>\r\n    <g id=\"line2d_17\"/>\r\n    <g id=\"line2d_18\">\r\n     <g>\r\n      <use style=\"fill:#ff7f0e;stroke:#ff7f0e;\" x=\"62.78125\" xlink:href=\"#m2d8af40a50\" y=\"213.859531\"/>\r\n     </g>\r\n    </g>\r\n    <g id=\"text_16\">\r\n     <!-- purity -->\r\n     <g transform=\"translate(80.78125 217.359531)scale(0.1 -0.1)\">\r\n      <use xlink:href=\"#DejaVuSans-70\"/>\r\n      <use x=\"63.476562\" xlink:href=\"#DejaVuSans-75\"/>\r\n      <use x=\"126.855469\" xlink:href=\"#DejaVuSans-72\"/>\r\n      <use x=\"167.96875\" xlink:href=\"#DejaVuSans-69\"/>\r\n      <use x=\"195.751953\" xlink:href=\"#DejaVuSans-74\"/>\r\n      <use x=\"234.960938\" xlink:href=\"#DejaVuSans-79\"/>\r\n     </g>\r\n    </g>\r\n   </g>\r\n  </g>\r\n </g>\r\n <defs>\r\n  <clipPath id=\"pb22f7d13a0\">\r\n   <rect height=\"217.44\" width=\"217.44\" x=\"43.78125\" y=\"10.999219\"/>\r\n  </clipPath>\r\n </defs>\r\n</svg>\r\n",
      "image/png": "[encoded data removed]"
     },
     "metadata": {
      "needs_background": "light"
     }
    }
   ],
   "source": [
    "import matplotlib.pyplot as plt\n",
    "for i,out in enumerate(best[0](sample_inputs)):\n",
    "    plt.errorbar(sample_outputs[:,i].numpy(), out.mean().numpy().squeeze(),\n",
    "    yerr = out.stddev().numpy().squeeze(),\n",
    "    label = data.columns[2:4][i],\n",
    "    marker = 'o',\n",
    "    ls = 'none')\n",
    "plt.legend(loc='lower left')\n",
    "plt.xlim(0,1)\n",
    "plt.ylim(0,1)\n",
    "plt.gca().set_aspect('equal')\n",
    "plt.xlabel('true')\n",
    "plt.ylabel('predicted')\n"
   ]
  },
  {
   "cell_type": "code",
   "execution_count": null,
   "metadata": {},
   "outputs": [],
   "source": []
  }
 ]
}