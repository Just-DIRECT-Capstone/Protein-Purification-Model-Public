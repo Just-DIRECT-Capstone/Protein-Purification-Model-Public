{
 "metadata": {
  "language_info": {
   "codemirror_mode": {
    "name": "ipython",
    "version": 3
   },
   "file_extension": ".py",
   "mimetype": "text/x-python",
   "name": "python",
   "nbconvert_exporter": "python",
   "pygments_lexer": "ipython3",
   "version": "3.9.2-final"
  },
  "orig_nbformat": 2,
  "kernelspec": {
   "name": "python392jvsc74a57bd0b01975ddddaf4db0ddd9e77ba558bc384051aec2d64c8688cf2fb07acba12100",
   "display_name": "Python 3.9.2 64-bit ('JUST': conda)"
  }
 },
 "nbformat": 4,
 "nbformat_minor": 2,
 "cells": [
  {
   "cell_type": "code",
   "execution_count": 1,
   "metadata": {},
   "outputs": [
    {
     "output_type": "stream",
     "name": "stdout",
     "text": [
      "INFO:tensorflow:Enabling eager execution\n",
      "INFO:tensorflow:Enabling v2 tensorshape\n",
      "INFO:tensorflow:Enabling resource variables\n",
      "INFO:tensorflow:Enabling tensor equality\n",
      "INFO:tensorflow:Enabling control flow v2\n"
     ]
    }
   ],
   "source": [
    "from utils import *\n",
    "from surrogate_models.dab_nn_defs import *"
   ]
  },
  {
   "source": [
    "# load data from just-private/data\n",
    "filename = 'mol_res_scan_results.csv'\n",
    "data = load_data(filename)\n",
    "\n",
    "# since currently data is just one big dataframe, select model inputs as X and purity, yield as Y\n",
    "X = data[data.columns[4:]]\n",
    "y = data[data.columns[2:4]]\n",
    "\n",
    "# specify train-test split, and batch size (useful for when we do larger datasets)\n",
    "dataset_size = X.shape[0]\n",
    "batch_size = int(dataset_size*0.1)\n",
    "train_size = int(dataset_size * 0.85)\n",
    "\n",
    "# split data into train and test (this is a generator)\n",
    "train_dataset, test_dataset = get_train_and_test_splits(X,y, train_size, batch_size)\n",
    "\n",
    "# define Probabilistic Bayesian Neural Network\n",
    "prob_bnn_model = create_probablistic_bnn_model(\n",
    "    FEATURE_NAMES = data.columns[4:],\n",
    "    TARGET_NAMES = data.columns[2:4], \n",
    "    train_size = train_size, \n",
    "    n_outputs = y.shape[1],\n",
    "    hidden_units = [8,8]\n",
    "    )\n",
    "\n",
    "# specify train/test routine \n",
    "run_experiment(\n",
    "    model = prob_bnn_model, \n",
    "    loss = negative_loglikelihood, \n",
    "    learning_rate = 0.001,\n",
    "    num_epochs = 10,\n",
    "    train_dataset = train_dataset, \n",
    "    test_dataset = test_dataset\n",
    "    )"
   ],
   "cell_type": "code",
   "metadata": {},
   "execution_count": 2,
   "outputs": [
    {
     "output_type": "stream",
     "name": "stdout",
     "text": [
      "Start training the model...\n",
      "WARNING:tensorflow:Model failed to serialize as JSON. Ignoring... Layer DenseVariational has arguments in `__init__` and therefore must override `get_config`.\n",
      "Epoch 1/10\n",
      "9/9 [==============================] - 24s 2s/step - loss: 5.1252 - yield_loss: 2.5550 - purity_loss: 2.5550 - yield_root_mean_squared_error: 1.4823 - purity_root_mean_squared_error: 1.4172 - val_loss: 4.3012 - val_yield_loss: 2.1440 - val_purity_loss: 2.1440 - val_yield_root_mean_squared_error: 1.1884 - val_purity_root_mean_squared_error: 1.1599\n",
      "Epoch 2/10\n",
      "9/9 [==============================] - 0s 43ms/step - loss: 4.9602 - yield_loss: 2.4738 - purity_loss: 2.4738 - yield_root_mean_squared_error: 1.3697 - purity_root_mean_squared_error: 1.3749 - val_loss: 5.3220 - val_yield_loss: 2.6552 - val_purity_loss: 2.6552 - val_yield_root_mean_squared_error: 1.4304 - val_purity_root_mean_squared_error: 1.5579\n",
      "Epoch 3/10\n",
      "9/9 [==============================] - 1s 60ms/step - loss: 4.7989 - yield_loss: 2.3925 - purity_loss: 2.3925 - yield_root_mean_squared_error: 1.3521 - purity_root_mean_squared_error: 1.3125 - val_loss: 4.1486 - val_yield_loss: 2.0675 - val_purity_loss: 2.0675 - val_yield_root_mean_squared_error: 1.1117 - val_purity_root_mean_squared_error: 1.1459\n",
      "Epoch 4/10\n",
      "9/9 [==============================] - 1s 62ms/step - loss: 4.9200 - yield_loss: 2.4537 - purity_loss: 2.4537 - yield_root_mean_squared_error: 1.3641 - purity_root_mean_squared_error: 1.4482 - val_loss: 4.8824 - val_yield_loss: 2.4337 - val_purity_loss: 2.4337 - val_yield_root_mean_squared_error: 1.2334 - val_purity_root_mean_squared_error: 1.3481\n",
      "Epoch 5/10\n",
      "9/9 [==============================] - 1s 100ms/step - loss: 4.1895 - yield_loss: 2.0874 - purity_loss: 2.0874 - yield_root_mean_squared_error: 1.1349 - purity_root_mean_squared_error: 1.1448 - val_loss: 4.1982 - val_yield_loss: 2.0927 - val_purity_loss: 2.0927 - val_yield_root_mean_squared_error: 1.1648 - val_purity_root_mean_squared_error: 1.1276\n",
      "Epoch 6/10\n",
      "9/9 [==============================] - 0s 45ms/step - loss: 4.0582 - yield_loss: 2.0223 - purity_loss: 2.0223 - yield_root_mean_squared_error: 1.1589 - purity_root_mean_squared_error: 1.0995 - val_loss: 4.0923 - val_yield_loss: 2.0400 - val_purity_loss: 2.0400 - val_yield_root_mean_squared_error: 1.0217 - val_purity_root_mean_squared_error: 1.0619\n",
      "Epoch 7/10\n",
      "9/9 [==============================] - 1s 55ms/step - loss: 4.3367 - yield_loss: 2.1618 - purity_loss: 2.1618 - yield_root_mean_squared_error: 1.2017 - purity_root_mean_squared_error: 1.2408 - val_loss: 3.7865 - val_yield_loss: 1.8842 - val_purity_loss: 1.8842 - val_yield_root_mean_squared_error: 1.0039 - val_purity_root_mean_squared_error: 1.1381\n",
      "Epoch 8/10\n",
      "9/9 [==============================] - 1s 79ms/step - loss: 3.8025 - yield_loss: 1.8942 - purity_loss: 1.8942 - yield_root_mean_squared_error: 1.0370 - purity_root_mean_squared_error: 1.0536 - val_loss: 3.4599 - val_yield_loss: 1.7252 - val_purity_loss: 1.7252 - val_yield_root_mean_squared_error: 0.9283 - val_purity_root_mean_squared_error: 0.9302\n",
      "Epoch 9/10\n",
      "9/9 [==============================] - 1s 95ms/step - loss: 4.0402 - yield_loss: 2.0132 - purity_loss: 2.0132 - yield_root_mean_squared_error: 1.0819 - purity_root_mean_squared_error: 1.1081 - val_loss: 3.3733 - val_yield_loss: 1.6799 - val_purity_loss: 1.6799 - val_yield_root_mean_squared_error: 0.9206 - val_purity_root_mean_squared_error: 0.9538\n",
      "Epoch 10/10\n",
      "9/9 [==============================] - 1s 91ms/step - loss: 3.9082 - yield_loss: 1.9481 - purity_loss: 1.9481 - yield_root_mean_squared_error: 1.1314 - purity_root_mean_squared_error: 1.0596 - val_loss: 3.5297 - val_yield_loss: 1.7579 - val_purity_loss: 1.7579 - val_yield_root_mean_squared_error: 0.9954 - val_purity_root_mean_squared_error: 1.0795\n",
      "Model training finished.\n",
      "Train RMSE: 8.363\n",
      "Evaluating model performance...\n",
      "Test RMSE: 7.659\n"
     ]
    }
   ]
  },
  {
   "cell_type": "code",
   "execution_count": null,
   "metadata": {},
   "outputs": [],
   "source": []
  }
 ]
}