{
 "cells": [
  {
   "cell_type": "code",
   "execution_count": null,
   "id": "charitable-processing",
   "metadata": {},
   "outputs": [],
   "source": [
    "import keras\n",
    "from keras.wrappers.scikit_learn import KerasRegressor\n",
    "\n",
    "import numpy as np\n",
    "import pandas as pd\n",
    "from sklearn.model_selection import cross_val_score\n",
    "from sklearn.model_selection import KFold\n",
    "from sklearn.model_selection import train_test_split\n",
    "from sklearn.preprocessing import StandardScaler"
   ]
  },
  {
   "cell_type": "code",
   "execution_count": null,
   "id": "cordless-alert",
   "metadata": {},
   "outputs": [],
   "source": [
    "def MSE(build_fn, epochs, batch_size, validation_split, X_train, y_train, X_test, y_test):\n",
    "    estimator = KerasRegressor(build_fn=build_fn, epochs=epochs, batch_size=batch_size, verbose=0)\n",
    "    history = estimator.fit(X_train, y_train, validation_split=validation_split, epochs=epochs, batch_size=batch_size, verbose=0)\n",
    "    test_loss = estimator.model.evaluate(X_test, y_test)\n",
    "    print(\"Final MSE for train is %.3e, for validation is %.3e, and for test is %.3e\" % \n",
    "    return"
   ]
  },
  {
   "cell_type": "code",
   "execution_count": null,
   "id": "ranging-resort",
   "metadata": {},
   "outputs": [],
   "source": [
    "# produce plot like Diego's \n",
    "\n",
    "def accuracy_plot(X_test, y_test, estimator):\n",
    "    predictions = estimator.model.predict(X_test)\n",
    "    plt.scatter(predictions[:,0],y_test[:,0], label='Yield')\n",
    "    plt.scatter(predictions[:,1],y_test[:,1], label='Purity')\n",
    "    plt.ylabel('True Value from Test Set')\n",
    "    plt.xlabel('Predicted from Model')\n",
    "    plt.title('Visualizing Model Accuracy')\n",
    "    plt.show()\n",
    "    return"
   ]
  },
  {
   "cell_type": "code",
   "execution_count": null,
   "id": "historical-thong",
   "metadata": {},
   "outputs": [],
   "source": [
    "## Start on unit tests here"
   ]
  }
 ],
 "metadata": {
  "kernelspec": {
   "display_name": "Python 3",
   "language": "python",
   "name": "python3"
  },
  "language_info": {
   "codemirror_mode": {
    "name": "ipython",
    "version": 3
   },
   "file_extension": ".py",
   "mimetype": "text/x-python",
   "name": "python",
   "nbconvert_exporter": "python",
   "pygments_lexer": "ipython3",
   "version": "3.7.3"
  }
 },
 "nbformat": 4,
 "nbformat_minor": 5
}
