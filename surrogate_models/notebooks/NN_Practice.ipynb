{
 "cells": [
  {
   "cell_type": "markdown",
   "id": "alpine-circulation",
   "metadata": {},
   "source": [
    "Beginning of a skeleton NN notebook: try to match the architecture provided in the papers."
   ]
  },
  {
   "cell_type": "code",
   "execution_count": 115,
   "id": "innovative-republican",
   "metadata": {},
   "outputs": [
    {
     "name": "stdout",
     "output_type": "stream",
     "text": [
      "The autoreload extension is already loaded. To reload it, use:\n",
      "  %reload_ext autoreload\n"
     ]
    }
   ],
   "source": [
    "# Import libraries\n",
    "import matplotlib \n",
    "from matplotlib import pyplot as plt\n",
    "\n",
    "import keras\n",
    "from keras.models import Sequential\n",
    "from keras.layers import Dropout\n",
    "from keras.layers import Dense\n",
    "from keras.wrappers.scikit_learn import KerasRegressor\n",
    "\n",
    "import numpy as np\n",
    "import pandas as pd\n",
    "from sklearn.model_selection import cross_val_score\n",
    "from sklearn.model_selection import KFold\n",
    "from sklearn.model_selection import train_test_split\n",
    "from sklearn.preprocessing import StandardScaler\n",
    "\n",
    "# Set larger fontsize for all plots\n",
    "%load_ext autoreload\n",
    "%autoreload 2"
   ]
  },
  {
   "cell_type": "markdown",
   "id": "periodic-worth",
   "metadata": {},
   "source": [
    "Setting up the data will be simple:"
   ]
  },
  {
   "cell_type": "code",
   "execution_count": 116,
   "id": "decreased-limit",
   "metadata": {},
   "outputs": [
    {
     "data": {
      "text/html": [
       "<div>\n",
       "<style scoped>\n",
       "    .dataframe tbody tr th:only-of-type {\n",
       "        vertical-align: middle;\n",
       "    }\n",
       "\n",
       "    .dataframe tbody tr th {\n",
       "        vertical-align: top;\n",
       "    }\n",
       "\n",
       "    .dataframe thead th {\n",
       "        text-align: right;\n",
       "    }\n",
       "</style>\n",
       "<table border=\"1\" class=\"dataframe\">\n",
       "  <thead>\n",
       "    <tr style=\"text-align: right;\">\n",
       "      <th></th>\n",
       "      <th>Unnamed: 0</th>\n",
       "      <th>cut 1</th>\n",
       "      <th>cut 2</th>\n",
       "      <th>yield</th>\n",
       "      <th>purity</th>\n",
       "      <th>c_s</th>\n",
       "      <th>v</th>\n",
       "      <th>mol1_D_L</th>\n",
       "      <th>mol1_k_ov</th>\n",
       "      <th>mol1_q_max</th>\n",
       "      <th>...</th>\n",
       "      <th>mol1_z_p</th>\n",
       "      <th>mol1_n</th>\n",
       "      <th>mol1_K_s</th>\n",
       "      <th>mol2_D_L</th>\n",
       "      <th>mol2_k_ov</th>\n",
       "      <th>mol2_q_max</th>\n",
       "      <th>mol2_K_eq</th>\n",
       "      <th>mol2_z_p</th>\n",
       "      <th>mol2_n</th>\n",
       "      <th>mol2_K_s</th>\n",
       "    </tr>\n",
       "  </thead>\n",
       "  <tbody>\n",
       "    <tr>\n",
       "      <th>0</th>\n",
       "      <td>0</td>\n",
       "      <td>0.0</td>\n",
       "      <td>3.0</td>\n",
       "      <td>0.242987</td>\n",
       "      <td>0.601903</td>\n",
       "      <td>0.2</td>\n",
       "      <td>0.576042</td>\n",
       "      <td>0.059</td>\n",
       "      <td>0.542</td>\n",
       "      <td>38.723139</td>\n",
       "      <td>...</td>\n",
       "      <td>2.79852</td>\n",
       "      <td>0</td>\n",
       "      <td>0</td>\n",
       "      <td>0.059</td>\n",
       "      <td>0.542</td>\n",
       "      <td>24.871645</td>\n",
       "      <td>13.137022</td>\n",
       "      <td>2.49598</td>\n",
       "      <td>0</td>\n",
       "      <td>0</td>\n",
       "    </tr>\n",
       "    <tr>\n",
       "      <th>1</th>\n",
       "      <td>1</td>\n",
       "      <td>0.0</td>\n",
       "      <td>6.0</td>\n",
       "      <td>0.340549</td>\n",
       "      <td>0.610753</td>\n",
       "      <td>0.2</td>\n",
       "      <td>0.576042</td>\n",
       "      <td>0.059</td>\n",
       "      <td>0.542</td>\n",
       "      <td>38.723139</td>\n",
       "      <td>...</td>\n",
       "      <td>2.79852</td>\n",
       "      <td>0</td>\n",
       "      <td>0</td>\n",
       "      <td>0.059</td>\n",
       "      <td>0.542</td>\n",
       "      <td>24.871645</td>\n",
       "      <td>13.137022</td>\n",
       "      <td>2.49598</td>\n",
       "      <td>0</td>\n",
       "      <td>0</td>\n",
       "    </tr>\n",
       "    <tr>\n",
       "      <th>2</th>\n",
       "      <td>2</td>\n",
       "      <td>0.0</td>\n",
       "      <td>9.0</td>\n",
       "      <td>0.401249</td>\n",
       "      <td>0.629828</td>\n",
       "      <td>0.2</td>\n",
       "      <td>0.576042</td>\n",
       "      <td>0.059</td>\n",
       "      <td>0.542</td>\n",
       "      <td>38.723139</td>\n",
       "      <td>...</td>\n",
       "      <td>2.79852</td>\n",
       "      <td>0</td>\n",
       "      <td>0</td>\n",
       "      <td>0.059</td>\n",
       "      <td>0.542</td>\n",
       "      <td>24.871645</td>\n",
       "      <td>13.137022</td>\n",
       "      <td>2.49598</td>\n",
       "      <td>0</td>\n",
       "      <td>0</td>\n",
       "    </tr>\n",
       "    <tr>\n",
       "      <th>3</th>\n",
       "      <td>3</td>\n",
       "      <td>0.0</td>\n",
       "      <td>12.0</td>\n",
       "      <td>0.450786</td>\n",
       "      <td>0.647608</td>\n",
       "      <td>0.2</td>\n",
       "      <td>0.576042</td>\n",
       "      <td>0.059</td>\n",
       "      <td>0.542</td>\n",
       "      <td>38.723139</td>\n",
       "      <td>...</td>\n",
       "      <td>2.79852</td>\n",
       "      <td>0</td>\n",
       "      <td>0</td>\n",
       "      <td>0.059</td>\n",
       "      <td>0.542</td>\n",
       "      <td>24.871645</td>\n",
       "      <td>13.137022</td>\n",
       "      <td>2.49598</td>\n",
       "      <td>0</td>\n",
       "      <td>0</td>\n",
       "    </tr>\n",
       "    <tr>\n",
       "      <th>4</th>\n",
       "      <td>4</td>\n",
       "      <td>0.0</td>\n",
       "      <td>15.0</td>\n",
       "      <td>0.493797</td>\n",
       "      <td>0.663042</td>\n",
       "      <td>0.2</td>\n",
       "      <td>0.576042</td>\n",
       "      <td>0.059</td>\n",
       "      <td>0.542</td>\n",
       "      <td>38.723139</td>\n",
       "      <td>...</td>\n",
       "      <td>2.79852</td>\n",
       "      <td>0</td>\n",
       "      <td>0</td>\n",
       "      <td>0.059</td>\n",
       "      <td>0.542</td>\n",
       "      <td>24.871645</td>\n",
       "      <td>13.137022</td>\n",
       "      <td>2.49598</td>\n",
       "      <td>0</td>\n",
       "      <td>0</td>\n",
       "    </tr>\n",
       "  </tbody>\n",
       "</table>\n",
       "<p>5 rows × 21 columns</p>\n",
       "</div>"
      ],
      "text/plain": [
       "   Unnamed: 0  cut 1  cut 2     yield    purity  c_s         v  mol1_D_L  \\\n",
       "0           0    0.0    3.0  0.242987  0.601903  0.2  0.576042     0.059   \n",
       "1           1    0.0    6.0  0.340549  0.610753  0.2  0.576042     0.059   \n",
       "2           2    0.0    9.0  0.401249  0.629828  0.2  0.576042     0.059   \n",
       "3           3    0.0   12.0  0.450786  0.647608  0.2  0.576042     0.059   \n",
       "4           4    0.0   15.0  0.493797  0.663042  0.2  0.576042     0.059   \n",
       "\n",
       "   mol1_k_ov  mol1_q_max  ...  mol1_z_p  mol1_n  mol1_K_s  mol2_D_L  \\\n",
       "0      0.542   38.723139  ...   2.79852       0         0     0.059   \n",
       "1      0.542   38.723139  ...   2.79852       0         0     0.059   \n",
       "2      0.542   38.723139  ...   2.79852       0         0     0.059   \n",
       "3      0.542   38.723139  ...   2.79852       0         0     0.059   \n",
       "4      0.542   38.723139  ...   2.79852       0         0     0.059   \n",
       "\n",
       "   mol2_k_ov  mol2_q_max  mol2_K_eq  mol2_z_p  mol2_n  mol2_K_s  \n",
       "0      0.542   24.871645  13.137022   2.49598       0         0  \n",
       "1      0.542   24.871645  13.137022   2.49598       0         0  \n",
       "2      0.542   24.871645  13.137022   2.49598       0         0  \n",
       "3      0.542   24.871645  13.137022   2.49598       0         0  \n",
       "4      0.542   24.871645  13.137022   2.49598       0         0  \n",
       "\n",
       "[5 rows x 21 columns]"
      ]
     },
     "execution_count": 116,
     "metadata": {},
     "output_type": "execute_result"
    }
   ],
   "source": [
    "# Load the data\n",
    "df = pd.read_csv('mol_res_scan_results_7.csv')\n",
    "df.head()"
   ]
  },
  {
   "cell_type": "code",
   "execution_count": 117,
   "id": "australian-holiday",
   "metadata": {},
   "outputs": [],
   "source": [
    "seed = 42 \n",
    "\n",
    "# do we need to get rid of cut 1/ cut 2? what are the important features here?\n",
    "\n",
    "X = df[['cut 1','cut 2','c_s','v','mol1_D_L','mol1_k_ov','mol1_q_max','mol1_K_eq','mol1_z_p','mol1_n','mol1_K_s','mol2_D_L','mol2_k_ov','mol2_q_max','mol2_K_eq','mol2_z_p','mol2_n','mol2_K_s']].values\n",
    "Y = df[['yield','purity']].values\n",
    "\n",
    "# Split into testing and training\n",
    "X_train_pn, X_test_pn, y_train, y_test = train_test_split(X, Y, test_size=0.20, random_state=seed)"
   ]
  },
  {
   "cell_type": "code",
   "execution_count": 118,
   "id": "affecting-sacrifice",
   "metadata": {},
   "outputs": [],
   "source": [
    "# Scaling\n",
    "X_train_scaler = StandardScaler().fit(X_train_pn)\n",
    "X_train = X_train_scaler.transform(X_train_pn)\n",
    "X_test = X_train_scaler.transform(X_test_pn)"
   ]
  },
  {
   "cell_type": "markdown",
   "id": "ambient-ordinance",
   "metadata": {},
   "source": [
    "The following needs to be modified to suit our needs:\n",
    "\n",
    "    Model: sequential or API?\n",
    "    Initializer: currently pulling from a normal distribution; is this necessary to change?\n",
    "    Activation function: Relu v. sigmoid?\n",
    "    Optimizer: Using Adam; is this necessary to change?\n",
    "    Number of neurons\n",
    "    Number of layers\n",
    "    Learning rate?\n",
    "    \n",
    "Nagrath\n",
    "\n",
    "    Sigmoidal Transfer Function\n",
    "    Two hidden layers with 10 and 7 neurons, respectively.\n",
    "    Output layer transfer function is linear."
   ]
  },
  {
   "cell_type": "code",
   "execution_count": 135,
   "id": "ignored-sunglasses",
   "metadata": {},
   "outputs": [],
   "source": [
    "# Create the neural network model\n",
    "\n",
    "def simple_nn():\n",
    "\n",
    "    model = Sequential()\n",
    "    model.add(Dense(10, input_dim=18, kernel_initializer='normal', activation='sigmoid'))\n",
    "    model.add(Dropout(0.2))\n",
    "    model.add(Dense(2, kernel_initializer='normal'))\n",
    "    opt = keras.optimizers.Adam(learning_rate=0.5)\n",
    "    \n",
    "    model.compile(loss='mean_squared_error', optimizer=opt)\n",
    "    \n",
    "    return model"
   ]
  },
  {
   "cell_type": "code",
   "execution_count": 136,
   "id": "excited-telescope",
   "metadata": {},
   "outputs": [
    {
     "name": "stdout",
     "output_type": "stream",
     "text": [
      "Final MSE for train is 1.670e-02 and for validation is 1.080e-02\n"
     ]
    }
   ],
   "source": [
    "# Train the model\n",
    "estimator = KerasRegressor(build_fn=simple_nn, epochs=150, batch_size=100, verbose=0)\n",
    "history = estimator.fit(X_train, y_train, validation_split=0.30, epochs=150, batch_size=100, verbose=0)\n",
    "print(\"Final MSE for train is %.3e and for validation is %.3e\" % \n",
    "      (history.history['loss'][-1], history.history['val_loss'][-1]))"
   ]
  },
  {
   "cell_type": "code",
   "execution_count": 137,
   "id": "motivated-consideration",
   "metadata": {},
   "outputs": [],
   "source": [
    "#history.history"
   ]
  },
  {
   "cell_type": "code",
   "execution_count": 138,
   "id": "cosmetic-floor",
   "metadata": {},
   "outputs": [
    {
     "name": "stdout",
     "output_type": "stream",
     "text": [
      "3300/3300 [==============================] - 0s 21us/step\n",
      "test set mse is 1.102e-02\n"
     ]
    }
   ],
   "source": [
    "# Evaluating model\n",
    "test_loss = estimator.model.evaluate(X_test, y_test)\n",
    "print(\"test set mse is %.3e\" % test_loss)"
   ]
  },
  {
   "cell_type": "code",
   "execution_count": 139,
   "id": "banned-vehicle",
   "metadata": {},
   "outputs": [],
   "source": [
    "predictions = estimator.model.predict(X_test)"
   ]
  },
  {
   "cell_type": "code",
   "execution_count": 140,
   "id": "mexican-allowance",
   "metadata": {},
   "outputs": [
    {
     "data": {
      "text/plain": [
       "array([[-8.12546133e-01,  8.13012127e-01,  1.00000000e+00, ...,\n",
       "        -1.01617147e+00,  0.00000000e+00,  0.00000000e+00],\n",
       "       [-1.22039498e+00, -4.07847159e-01,  1.00000000e+00, ...,\n",
       "        -1.06328580e+00,  0.00000000e+00,  0.00000000e+00],\n",
       "       [-8.12546133e-01, -8.14800254e-01,  1.00000000e+00, ...,\n",
       "        -7.43182984e-01,  0.00000000e+00,  0.00000000e+00],\n",
       "       ...,\n",
       "       [-8.12546133e-01, -8.94063619e-04,  1.00000000e+00, ...,\n",
       "        -1.06512772e+00,  0.00000000e+00,  0.00000000e+00],\n",
       "       [-1.22039498e+00, -1.62870644e+00,  1.00000000e+00, ...,\n",
       "         1.51002682e+00,  0.00000000e+00,  0.00000000e+00],\n",
       "       [-8.12546133e-01,  8.13012127e-01,  1.00000000e+00, ...,\n",
       "         1.39101376e+00,  0.00000000e+00,  0.00000000e+00]])"
      ]
     },
     "execution_count": 140,
     "metadata": {},
     "output_type": "execute_result"
    }
   ],
   "source": [
    "X_test"
   ]
  },
  {
   "cell_type": "code",
   "execution_count": 141,
   "id": "ethical-injection",
   "metadata": {},
   "outputs": [
    {
     "data": {
      "text/plain": [
       "array([[0.44813997, 0.79035513],\n",
       "       [0.65746378, 0.72971574],\n",
       "       [0.6252425 , 0.81927121],\n",
       "       ...,\n",
       "       [0.54559589, 0.85612038],\n",
       "       [0.21303454, 0.75483561],\n",
       "       [0.79267044, 0.83447293]])"
      ]
     },
     "execution_count": 141,
     "metadata": {},
     "output_type": "execute_result"
    }
   ],
   "source": [
    "y_test"
   ]
  },
  {
   "cell_type": "code",
   "execution_count": 142,
   "id": "south-semiconductor",
   "metadata": {},
   "outputs": [
    {
     "data": {
      "text/plain": [
       "array([[0.5412758 , 0.8060433 ],\n",
       "       [0.54264975, 0.8061149 ],\n",
       "       [0.5382356 , 0.80588484],\n",
       "       ...,\n",
       "       [0.54283077, 0.8061244 ],\n",
       "       [0.23842373, 0.7902551 ],\n",
       "       [0.54297984, 0.80613214]], dtype=float32)"
      ]
     },
     "execution_count": 142,
     "metadata": {},
     "output_type": "execute_result"
    }
   ],
   "source": [
    "predictions"
   ]
  }
 ],
 "metadata": {
  "kernelspec": {
   "display_name": "Python 3",
   "language": "python",
   "name": "python3"
  },
  "language_info": {
   "codemirror_mode": {
    "name": "ipython",
    "version": 3
   },
   "file_extension": ".py",
   "mimetype": "text/x-python",
   "name": "python",
   "nbconvert_exporter": "python",
   "pygments_lexer": "ipython3",
   "version": "3.7.3"
  }
 },
 "nbformat": 4,
 "nbformat_minor": 5
}
