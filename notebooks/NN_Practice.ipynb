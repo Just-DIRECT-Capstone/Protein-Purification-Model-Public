{
 "cells": [
  {
   "cell_type": "markdown",
   "id": "alpine-circulation",
   "metadata": {},
   "source": [
    "Beginning of a skeleton NN notebook: try to match the architecture provided in the papers."
   ]
  },
  {
   "cell_type": "code",
   "execution_count": 1,
   "id": "innovative-republican",
   "metadata": {},
   "outputs": [
    {
     "name": "stderr",
     "output_type": "stream",
     "text": [
      "Using TensorFlow backend.\n"
     ]
    }
   ],
   "source": [
    "# Import libraries\n",
    "import matplotlib \n",
    "from matplotlib import pyplot as plt\n",
    "\n",
    "import keras\n",
    "from keras.models import Sequential\n",
    "from keras.layers import Dense\n",
    "from keras.wrappers.scikit_learn import KerasRegressor\n",
    "\n",
    "import numpy as np\n",
    "import pandas as pd\n",
    "from sklearn.model_selection import cross_val_score\n",
    "from sklearn.model_selection import KFold\n",
    "from sklearn.model_selection import train_test_split\n",
    "from sklearn.preprocessing import StandardScaler\n",
    "\n",
    "# Set larger fontsize for all plots\n",
    "%load_ext autoreload\n",
    "%autoreload 2"
   ]
  },
  {
   "cell_type": "markdown",
   "id": "periodic-worth",
   "metadata": {},
   "source": [
    "Setting up the data will be simple:"
   ]
  },
  {
   "cell_type": "code",
   "execution_count": 12,
   "id": "decreased-limit",
   "metadata": {},
   "outputs": [
    {
     "data": {
      "text/html": [
       "<div>\n",
       "<style scoped>\n",
       "    .dataframe tbody tr th:only-of-type {\n",
       "        vertical-align: middle;\n",
       "    }\n",
       "\n",
       "    .dataframe tbody tr th {\n",
       "        vertical-align: top;\n",
       "    }\n",
       "\n",
       "    .dataframe thead th {\n",
       "        text-align: right;\n",
       "    }\n",
       "</style>\n",
       "<table border=\"1\" class=\"dataframe\">\n",
       "  <thead>\n",
       "    <tr style=\"text-align: right;\">\n",
       "      <th></th>\n",
       "      <th>Unnamed: 0</th>\n",
       "      <th>cut 1</th>\n",
       "      <th>cut 2</th>\n",
       "      <th>yield</th>\n",
       "      <th>purity</th>\n",
       "      <th>c_s</th>\n",
       "      <th>v</th>\n",
       "      <th>mol1_D_L</th>\n",
       "      <th>mol1_k_ov</th>\n",
       "      <th>mol1_q_max</th>\n",
       "      <th>...</th>\n",
       "      <th>mol1_z_p</th>\n",
       "      <th>mol1_n</th>\n",
       "      <th>mol1_K_s</th>\n",
       "      <th>mol2_D_L</th>\n",
       "      <th>mol2_k_ov</th>\n",
       "      <th>mol2_q_max</th>\n",
       "      <th>mol2_K_eq</th>\n",
       "      <th>mol2_z_p</th>\n",
       "      <th>mol2_n</th>\n",
       "      <th>mol2_K_s</th>\n",
       "    </tr>\n",
       "  </thead>\n",
       "  <tbody>\n",
       "    <tr>\n",
       "      <th>0</th>\n",
       "      <td>0</td>\n",
       "      <td>0.0</td>\n",
       "      <td>3.0</td>\n",
       "      <td>0.000212</td>\n",
       "      <td>0.049710</td>\n",
       "      <td>0.2</td>\n",
       "      <td>0.478557</td>\n",
       "      <td>0.059</td>\n",
       "      <td>5.42</td>\n",
       "      <td>0.041294</td>\n",
       "      <td>...</td>\n",
       "      <td>2.367878</td>\n",
       "      <td>0</td>\n",
       "      <td>0</td>\n",
       "      <td>0.059</td>\n",
       "      <td>5.42</td>\n",
       "      <td>0.016222</td>\n",
       "      <td>487.821861</td>\n",
       "      <td>3.979901</td>\n",
       "      <td>0</td>\n",
       "      <td>0</td>\n",
       "    </tr>\n",
       "    <tr>\n",
       "      <th>1</th>\n",
       "      <td>1</td>\n",
       "      <td>0.0</td>\n",
       "      <td>6.0</td>\n",
       "      <td>0.023141</td>\n",
       "      <td>0.134193</td>\n",
       "      <td>0.2</td>\n",
       "      <td>0.478557</td>\n",
       "      <td>0.059</td>\n",
       "      <td>5.42</td>\n",
       "      <td>0.041294</td>\n",
       "      <td>...</td>\n",
       "      <td>2.367878</td>\n",
       "      <td>0</td>\n",
       "      <td>0</td>\n",
       "      <td>0.059</td>\n",
       "      <td>5.42</td>\n",
       "      <td>0.016222</td>\n",
       "      <td>487.821861</td>\n",
       "      <td>3.979901</td>\n",
       "      <td>0</td>\n",
       "      <td>0</td>\n",
       "    </tr>\n",
       "    <tr>\n",
       "      <th>2</th>\n",
       "      <td>2</td>\n",
       "      <td>0.0</td>\n",
       "      <td>9.0</td>\n",
       "      <td>0.247191</td>\n",
       "      <td>0.551462</td>\n",
       "      <td>0.2</td>\n",
       "      <td>0.478557</td>\n",
       "      <td>0.059</td>\n",
       "      <td>5.42</td>\n",
       "      <td>0.041294</td>\n",
       "      <td>...</td>\n",
       "      <td>2.367878</td>\n",
       "      <td>0</td>\n",
       "      <td>0</td>\n",
       "      <td>0.059</td>\n",
       "      <td>5.42</td>\n",
       "      <td>0.016222</td>\n",
       "      <td>487.821861</td>\n",
       "      <td>3.979901</td>\n",
       "      <td>0</td>\n",
       "      <td>0</td>\n",
       "    </tr>\n",
       "    <tr>\n",
       "      <th>3</th>\n",
       "      <td>3</td>\n",
       "      <td>0.0</td>\n",
       "      <td>12.0</td>\n",
       "      <td>0.435082</td>\n",
       "      <td>0.670937</td>\n",
       "      <td>0.2</td>\n",
       "      <td>0.478557</td>\n",
       "      <td>0.059</td>\n",
       "      <td>5.42</td>\n",
       "      <td>0.041294</td>\n",
       "      <td>...</td>\n",
       "      <td>2.367878</td>\n",
       "      <td>0</td>\n",
       "      <td>0</td>\n",
       "      <td>0.059</td>\n",
       "      <td>5.42</td>\n",
       "      <td>0.016222</td>\n",
       "      <td>487.821861</td>\n",
       "      <td>3.979901</td>\n",
       "      <td>0</td>\n",
       "      <td>0</td>\n",
       "    </tr>\n",
       "    <tr>\n",
       "      <th>4</th>\n",
       "      <td>4</td>\n",
       "      <td>0.0</td>\n",
       "      <td>15.0</td>\n",
       "      <td>0.548752</td>\n",
       "      <td>0.713056</td>\n",
       "      <td>0.2</td>\n",
       "      <td>0.478557</td>\n",
       "      <td>0.059</td>\n",
       "      <td>5.42</td>\n",
       "      <td>0.041294</td>\n",
       "      <td>...</td>\n",
       "      <td>2.367878</td>\n",
       "      <td>0</td>\n",
       "      <td>0</td>\n",
       "      <td>0.059</td>\n",
       "      <td>5.42</td>\n",
       "      <td>0.016222</td>\n",
       "      <td>487.821861</td>\n",
       "      <td>3.979901</td>\n",
       "      <td>0</td>\n",
       "      <td>0</td>\n",
       "    </tr>\n",
       "  </tbody>\n",
       "</table>\n",
       "<p>5 rows × 21 columns</p>\n",
       "</div>"
      ],
      "text/plain": [
       "   Unnamed: 0  cut 1  cut 2     yield    purity  c_s         v  mol1_D_L  \\\n",
       "0           0    0.0    3.0  0.000212  0.049710  0.2  0.478557     0.059   \n",
       "1           1    0.0    6.0  0.023141  0.134193  0.2  0.478557     0.059   \n",
       "2           2    0.0    9.0  0.247191  0.551462  0.2  0.478557     0.059   \n",
       "3           3    0.0   12.0  0.435082  0.670937  0.2  0.478557     0.059   \n",
       "4           4    0.0   15.0  0.548752  0.713056  0.2  0.478557     0.059   \n",
       "\n",
       "   mol1_k_ov  mol1_q_max  ...  mol1_z_p  mol1_n  mol1_K_s  mol2_D_L  \\\n",
       "0       5.42    0.041294  ...  2.367878       0         0     0.059   \n",
       "1       5.42    0.041294  ...  2.367878       0         0     0.059   \n",
       "2       5.42    0.041294  ...  2.367878       0         0     0.059   \n",
       "3       5.42    0.041294  ...  2.367878       0         0     0.059   \n",
       "4       5.42    0.041294  ...  2.367878       0         0     0.059   \n",
       "\n",
       "   mol2_k_ov  mol2_q_max   mol2_K_eq  mol2_z_p  mol2_n  mol2_K_s  \n",
       "0       5.42    0.016222  487.821861  3.979901       0         0  \n",
       "1       5.42    0.016222  487.821861  3.979901       0         0  \n",
       "2       5.42    0.016222  487.821861  3.979901       0         0  \n",
       "3       5.42    0.016222  487.821861  3.979901       0         0  \n",
       "4       5.42    0.016222  487.821861  3.979901       0         0  \n",
       "\n",
       "[5 rows x 21 columns]"
      ]
     },
     "execution_count": 12,
     "metadata": {},
     "output_type": "execute_result"
    }
   ],
   "source": [
    "# Load the data\n",
    "df = pd.read_csv('mol_res_scan_results_1.csv')\n",
    "df.head()"
   ]
  },
  {
   "cell_type": "code",
   "execution_count": 13,
   "id": "australian-holiday",
   "metadata": {},
   "outputs": [],
   "source": [
    "seed = 42 \n",
    "\n",
    "# do we need to get rid of cut 1/ cut 2? what are the important features here?\n",
    "\n",
    "X = df[['cut 1','cut 2','c_s','v','mol1_D_L','mol1_k_ov','mol1_q_max','mol1_K_eq','mol1_z_p','mol1_n','mol1_K_s','mol2_D_L','mol2_k_ov','mol2_q_max','mol2_K_eq','mol2_z_p','mol2_n','mol2_K_s']].values\n",
    "Y = df[['yield','purity']].values\n",
    "\n",
    "# Split into testing and training\n",
    "X_train_pn, X_test_pn, y_train, y_test = train_test_split(X, Y, test_size=0.20, random_state=seed)"
   ]
  },
  {
   "cell_type": "code",
   "execution_count": 14,
   "id": "affecting-sacrifice",
   "metadata": {},
   "outputs": [],
   "source": [
    "# is scaling the data important?\n",
    "\n",
    "X_train_scaler = StandardScaler().fit(X_train_pn)\n",
    "\n",
    "X_train = X_train_scaler.transform(X_train_pn)\n",
    "\n",
    "X_test = X_train_scaler.transform(X_test_pn)"
   ]
  },
  {
   "cell_type": "markdown",
   "id": "ambient-ordinance",
   "metadata": {},
   "source": [
    "The following needs to be modified to suit our needs:"
   ]
  },
  {
   "cell_type": "code",
   "execution_count": 15,
   "id": "ignored-sunglasses",
   "metadata": {},
   "outputs": [],
   "source": [
    "# Create the neural network model\n",
    "\n",
    "# try creating a single hidden layer with 10-50 nodes? \n",
    "\n",
    "def medium_network():\n",
    "\n",
    "    model = Sequential()\n",
    "    model.add(Dense(6, input_dim=18, kernel_initializer='normal', activation='relu'))\n",
    "    model.add(Dense(12, kernel_initializer='normal', activation='relu'))\n",
    "    model.add(Dense(2, kernel_initializer='normal'))\n",
    "    opt = keras.optimizers.Adam(learning_rate=0.9)\n",
    "    \n",
    "    model.compile(loss='mean_squared_error', optimizer=opt)\n",
    "    return model"
   ]
  },
  {
   "cell_type": "code",
   "execution_count": 16,
   "id": "excited-telescope",
   "metadata": {},
   "outputs": [
    {
     "name": "stdout",
     "output_type": "stream",
     "text": [
      "Final MSE for train is 3.859e-02 and for validation is 4.086e-02\n"
     ]
    }
   ],
   "source": [
    "# Train the model\n",
    "\n",
    "# what do we need to update here?\n",
    "\n",
    "np.random.seed(seed)\n",
    "estimator = KerasRegressor(build_fn=medium_network, epochs=150, batch_size=10000, verbose=0)\n",
    "history = estimator.fit(X_train, y_train, validation_split=0.30, epochs=150, batch_size=10000,verbose=0)\n",
    "print(\"Final MSE for train is %.3e and for validation is %.3e\" % \n",
    "      (history.history['loss'][-1], history.history['val_loss'][-1]))"
   ]
  },
  {
   "cell_type": "code",
   "execution_count": 17,
   "id": "cosmetic-floor",
   "metadata": {},
   "outputs": [
    {
     "name": "stdout",
     "output_type": "stream",
     "text": [
      "550/550 [==============================] - 0s 34us/step\n",
      "test set mse is 4.245e-02\n"
     ]
    }
   ],
   "source": [
    "# Evaluating model\n",
    "# Mean squared error on the test set?\n",
    "\n",
    "test_loss = estimator.model.evaluate(X_test, y_test)\n",
    "print(\"test set mse is %.3e\" % test_loss)"
   ]
  },
  {
   "cell_type": "code",
   "execution_count": 18,
   "id": "resident-cooler",
   "metadata": {},
   "outputs": [
    {
     "name": "stdout",
     "output_type": "stream",
     "text": [
      "Results: 0.04 (0.00) MSE\n"
     ]
    }
   ],
   "source": [
    "# More evaluating the model\n",
    "# K Fold Cross-Validation\n",
    "\n",
    "kfold = KFold(n_splits=10, random_state=seed, shuffle=True)\n",
    "results = cross_val_score(estimator, X_train, y_train, cv=kfold)\n",
    "print(\"Results: %.2f (%.2f) MSE\" % (-1 * results.mean(), results.std()))"
   ]
  },
  {
   "cell_type": "code",
   "execution_count": 19,
   "id": "pressing-feeding",
   "metadata": {
    "scrolled": true
   },
   "outputs": [
    {
     "data": {
      "image/png": "[encoded data removed]",
      "text/plain": [
       "<Figure size 432x288 with 1 Axes>"
      ]
     },
     "metadata": {
      "needs_background": "light"
     },
     "output_type": "display_data"
    }
   ],
   "source": [
    "# Looking at loss rate over number of epochs\n",
    "\n",
    "# Not sure which metrics are going to be the most important for us here?\n",
    "\n",
    "plt.plot(history.history['loss'], '--', c='b')\n",
    "plt.plot(history.history['val_loss'], c='crimson')\n",
    "plt.title('model loss')\n",
    "plt.ylabel('loss')\n",
    "plt.xlabel('epoch')\n",
    "plt.legend(['train', 'validation'], loc='upper left')\n",
    "plt.show()"
   ]
  }
 ],
 "metadata": {
  "kernelspec": {
   "display_name": "Python 3",
   "language": "python",
   "name": "python3"
  },
  "language_info": {
   "codemirror_mode": {
    "name": "ipython",
    "version": 3
   },
   "file_extension": ".py",
   "mimetype": "text/x-python",
   "name": "python",
   "nbconvert_exporter": "python",
   "pygments_lexer": "ipython3",
   "version": "3.7.3"
  }
 },
 "nbformat": 4,
 "nbformat_minor": 5
}
