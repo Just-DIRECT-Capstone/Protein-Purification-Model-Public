{
 "cells": [
  {
   "cell_type": "markdown",
   "id": "alpine-circulation",
   "metadata": {},
   "source": [
    "Beginning of a skeleton NN notebook: try to match the architecture provided in the papers."
   ]
  },
  {
   "cell_type": "code",
   "execution_count": 1,
   "id": "innovative-republican",
   "metadata": {},
   "outputs": [
    {
     "name": "stderr",
     "output_type": "stream",
     "text": [
      "Using TensorFlow backend.\n"
     ]
    }
   ],
   "source": [
    "# Import libraries\n",
    "import matplotlib \n",
    "from matplotlib import pyplot as plt\n",
    "\n",
    "import keras\n",
    "from keras.models import Sequential\n",
    "from keras.layers import Dense\n",
    "from keras.wrappers.scikit_learn import KerasRegressor\n",
    "\n",
    "import numpy as np\n",
    "import pandas as pd\n",
    "from sklearn.model_selection import cross_val_score\n",
    "from sklearn.model_selection import KFold\n",
    "from sklearn.model_selection import train_test_split\n",
    "from sklearn.preprocessing import StandardScaler\n",
    "\n",
    "# Set larger fontsize for all plots\n",
    "%load_ext autoreload\n",
    "%autoreload 2"
   ]
  },
  {
   "cell_type": "markdown",
   "id": "periodic-worth",
   "metadata": {},
   "source": [
    "Setting up the data will be simple:"
   ]
  },
  {
   "cell_type": "code",
   "execution_count": null,
   "id": "decreased-limit",
   "metadata": {},
   "outputs": [],
   "source": [
    "# Load/scale the data, split into training and testing sets\n",
    "df = pd.read_csv('sample_data.csv')\n",
    "\n",
    "seed = 42 \n",
    "\n",
    "# change these to suit our data--multiple outputs??\n",
    "X = df[['insert feature names']].values\n",
    "Y = df[['purity','yield']].values\n",
    "\n",
    "# Split into testing and training\n",
    "X_train_pn, X_test_pn, y_train, y_test = train_test_split(X, Y, test_size=0.20, random_state=seed)"
   ]
  },
  {
   "cell_type": "code",
   "execution_count": null,
   "id": "affecting-sacrifice",
   "metadata": {},
   "outputs": [],
   "source": [
    "# do we need to scale the data? DISCUSS THIS WITH WESLEY\n",
    "\n",
    "X_train_scaler = StandardScaler().fit(X_train_pn)\n",
    "\n",
    "X_train = X_train_scaler.transform(X_train_pn)\n",
    "\n",
    "X_test = X_train_scaler.transform(X_test_pn)"
   ]
  },
  {
   "cell_type": "markdown",
   "id": "ambient-ordinance",
   "metadata": {},
   "source": [
    "The following needs to be modified to suit our needs:"
   ]
  },
  {
   "cell_type": "code",
   "execution_count": null,
   "id": "ignored-sunglasses",
   "metadata": {},
   "outputs": [],
   "source": [
    "# Create the neural network model\n",
    "# stolen from NN notes in class\n",
    "\n",
    "def medium_network():\n",
    "    # assemble the structure\n",
    "    model = Sequential()\n",
    "    model.add(Dense(6, input_dim=6, kernel_initializer='normal', activation='relu'))\n",
    "    model.add(Dense(12, kernel_initializer='normal', activation='relu'))\n",
    "    model.add(Dense(1, kernel_initializer='normal'))\n",
    "    opt = keras.optimizers.Adam(learning_rate=0.9)\n",
    "    \n",
    "    # compile the model\n",
    "    model.compile(loss='mean_squared_error', optimizer=opt)\n",
    "    return model"
   ]
  },
  {
   "cell_type": "code",
   "execution_count": null,
   "id": "excited-telescope",
   "metadata": {},
   "outputs": [],
   "source": [
    "# Train the model\n",
    "\n",
    "np.random.seed(seed)\n",
    "estimator = KerasRegressor(build_fn=medium_network,\n",
    "        epochs=150, batch_size=10000, verbose=0)\n",
    "history = estimator.fit(X_train, y_train, validation_split=0.30, epochs=150, \n",
    "        batch_size=10000, verbose=0)\n",
    "print(\"Final MSE for train is %.3e and for validation is %.3e\" % "
   ]
  },
  {
   "cell_type": "code",
   "execution_count": null,
   "id": "cosmetic-floor",
   "metadata": {},
   "outputs": [],
   "source": [
    "# Evaluating model\n",
    "test_loss = estimator.model.evaluate(X_test, y_test)\n",
    "print(\"test set mse is %.3e\" % test_loss)"
   ]
  },
  {
   "cell_type": "code",
   "execution_count": null,
   "id": "resident-cooler",
   "metadata": {},
   "outputs": [],
   "source": [
    "# More evaluating the model\n",
    "kfold = KFold(n_splits=10, random_state=seed, shuffle=True)\n",
    "results = cross_val_score(estimator, X_train, y_train, cv=kfold)\n",
    "print(\"Results: %.2f (%.2f) MSE\" % (-1 * results.mean(), results.std()))"
   ]
  },
  {
   "cell_type": "code",
   "execution_count": null,
   "id": "pressing-feeding",
   "metadata": {},
   "outputs": [],
   "source": [
    "# Looking at loss rate and number of epochs???"
   ]
  }
 ],
 "metadata": {
  "kernelspec": {
   "display_name": "Python 3",
   "language": "python",
   "name": "python3"
  },
  "language_info": {
   "codemirror_mode": {
    "name": "ipython",
    "version": 3
   },
   "file_extension": ".py",
   "mimetype": "text/x-python",
   "name": "python",
   "nbconvert_exporter": "python",
   "pygments_lexer": "ipython3",
   "version": "3.7.3"
  }
 },
 "nbformat": 4,
 "nbformat_minor": 5
}
